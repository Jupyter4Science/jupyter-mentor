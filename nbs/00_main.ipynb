{
 "cells": [
  {
   "cell_type": "markdown",
   "id": "57997602-8d4e-4a22-b1aa-a310805046e0",
   "metadata": {},
   "source": [
    "# Main Application"
   ]
  },
  {
   "cell_type": "code",
   "execution_count": null,
   "id": "5018794d-8ed5-4b86-8ed5-2a021dee74f4",
   "metadata": {},
   "outputs": [],
   "source": [
    "#| default_export main"
   ]
  },
  {
   "cell_type": "code",
   "execution_count": null,
   "id": "bdd83822-655e-4a13-a9e5-557609cd3f0d",
   "metadata": {},
   "outputs": [],
   "source": [
    "import ipywidgets as widgets\n",
    "from ipywidgets import Tab, Output, Button\n",
    "from jupyter_mentor.login import Login\n",
    "from jupyter_mentor.educator_profile import EducatorProfile\n",
    "from jupyter_mentor.educator_course_overview import EducatorCourseOverview\n",
    "from jupyter_mentor.chatbot import ChatBot"
   ]
  },
  {
   "cell_type": "code",
   "execution_count": null,
   "id": "ff4ce152-adef-4c60-828a-8bbf68129209",
   "metadata": {},
   "outputs": [],
   "source": [
    "#| export\n",
    "class Main(widgets.Tab):\n",
    "    \n",
    "    def __init__(self):\n",
    "        super().__init__()\n",
    "        \n",
    "        # initialize models\n",
    "        # self.model = DataModel(FILENAME)\n",
    "        \n",
    "        # initialize views\n",
    "        self.first = Login()\n",
    "        self.second = EducatorProfile()\n",
    "        self.third = EducatorCourseOverview()\n",
    "        self.fourth = ChatBot()\n",
    "\n",
    "\n",
    "        \n",
    "        # Add tabs to the Tab widget\n",
    "        self.children = (self.first, self.second, self.third, self.fourth)\n",
    "\n",
    "        self.set_title(0, 'LogIn')\n",
    "        self.set_title(1, 'User Profile')\n",
    "        self.set_title(2, 'Course Overview')\n",
    "        self.set_title(3, 'Test/Assn Generator')\n",
    "\n",
    "\n",
    "        # Add event handlers to \"Next\" buttons in each tab\n",
    "        self.first.login_button.on_click(self.switch_to_second)\n",
    "        self.second.next_button.on_click(self.switch_to_third)\n",
    "        self.third.next_button.on_click(self.switch_to_fourth)\n",
    "    \n",
    "    def switch_to_second(self, button):\n",
    "        self.selected_index = 1\n",
    "    \n",
    "    def switch_to_third(self, button):\n",
    "        self.selected_index = 2\n",
    "    \n",
    "    def switch_to_fourth(self, button):\n",
    "        self.selected_index = 3\n",
    "        "
   ]
  },
  {
   "cell_type": "code",
   "execution_count": null,
   "id": "9ca28623-ed1f-4f1c-b671-462ee582040f",
   "metadata": {},
   "outputs": [],
   "source": [
    "main = Main()\n",
    "main"
   ]
  },
  {
   "cell_type": "code",
   "execution_count": null,
   "id": "dbcd4520-400c-4e2e-9923-a5da0adb1c34",
   "metadata": {},
   "outputs": [],
   "source": [
    "#| hide\n",
    "import nbdev; nbdev.nbdev_export()"
   ]
  },
  {
   "cell_type": "code",
   "execution_count": null,
   "id": "3d5f570c-0b64-4a9e-bec7-d44d04006894",
   "metadata": {},
   "outputs": [],
   "source": []
  }
 ],
 "metadata": {
  "kernelspec": {
   "display_name": "python3",
   "language": "python",
   "name": "python3"
  }
 },
 "nbformat": 4,
 "nbformat_minor": 5
}
