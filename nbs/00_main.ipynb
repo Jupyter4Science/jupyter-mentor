{
 "cells": [
  {
   "cell_type": "markdown",
   "id": "57997602-8d4e-4a22-b1aa-a310805046e0",
   "metadata": {},
   "source": [
    "# Main Application"
   ]
  },
  {
   "cell_type": "code",
   "execution_count": null,
   "id": "5018794d-8ed5-4b86-8ed5-2a021dee74f4",
   "metadata": {},
   "outputs": [],
   "source": [
    "#| default_export main"
   ]
  },
  {
   "cell_type": "code",
   "execution_count": null,
   "id": "89293f18-ab92-426e-abf4-249f3e17727d",
   "metadata": {},
   "outputs": [],
   "source": [
    "import ipywidgets as widgets\n",
    "from ipywidgets import Tab, Output, Button\n",
    "from jupyter_mentor.login import Login\n",
    "from jupyter_mentor.educator_profile import EducatorProfileView\n",
    "from jupyter_mentor.student_profile import StudentProfile\n",
    "from jupyter_mentor.educator_course_overview import EducatorCourseOverview\n",
    "from jupyter_mentor.student_course_overview import StudentCourseOverview\n",
    "from jupyter_mentor.chatbot_tab import ChatBot, ChatBotModel, StudentChatBot, EducatorChatBot\n",
    "from jupyter_mentor.file_viewer import FileViewerView"
   ]
  },
  {
   "cell_type": "code",
   "execution_count": null,
   "id": "af80f333-81cd-4f2d-8f92-195b79a8e307",
   "metadata": {},
   "outputs": [],
   "source": [
    "import langchain\n",
    "from langchain_openai import ChatOpenAI\n",
    "from langchain_core.prompts import ChatPromptTemplate\n",
    "from langchain_core.output_parsers import StrOutputParser\n",
    "from langchain_community.document_loaders import PyPDFLoader\n",
    "from langchain_community.vectorstores import FAISS\n",
    "from langchain_openai import OpenAIEmbeddings\n",
    "import os"
   ]
  },
  {
   "cell_type": "code",
   "execution_count": null,
   "id": "d25ddd77-b1e3-41e6-9254-686a04ee7633",
   "metadata": {},
   "outputs": [],
   "source": [
    "madlibs_list = [\n",
    "    {'name': 'Open Prompt',\n",
    "     'description': '',\n",
    "     'variables': {\n",
    "         'input_text': 'value'\n",
    "        }, \n",
    "        'template': '{input_text}' ,\n",
    "        'placeholder': 'Message AI chatbot...',\n",
    "    },\n",
    "    {\n",
    "        'name': 'Metaphor',\n",
    "        'variables': {\n",
    "            'concept': 'value'\n",
    "        }, \n",
    "        'template': \"I'm having trouble understanding {concept}. Explain it as a metaphor\",\n",
    "        'description': \"I'm having trouble understanding...\", \n",
    "        'placeholder': 'why the sky is blue'\n",
    "    }\n",
    "]"
   ]
  },
  {
   "cell_type": "code",
   "execution_count": null,
   "id": "ff4ce152-adef-4c60-828a-8bbf68129209",
   "metadata": {},
   "outputs": [],
   "source": [
    "#| export\n",
    "class EducatorMain(widgets.Tab):\n",
    "    \n",
    "    def __init__(self):\n",
    "        super().__init__()\n",
    "        \n",
    "        # initialize models\n",
    "        # self.model = DataModel(FILENAME)\n",
    "        self.educator_chatbot_model = ChatBotModel(madlibs_list)\n",
    "\n",
    "        \n",
    "        # initialize views\n",
    "        self.first = Login()\n",
    "        self.second = EducatorProfileView()\n",
    "        self.file_viewer = FileViewerView()\n",
    "        self.third = EducatorCourseOverview(self.file_viewer)\n",
    "        self.fourth = ChatBot(self.educator_chatbot_model)\n",
    "        \n",
    "        # Add tabs to the Tab widget\n",
    "        self.children = (self.first, self.second, self.third, self.fourth)\n",
    "\n",
    "        self.set_title(0, 'LogIn')\n",
    "        self.set_title(1, 'User Profile')\n",
    "        self.set_title(2, 'Course Overview')\n",
    "        self.set_title(3, 'Test/Assn Generator')\n",
    "\n",
    "\n",
    "        # Add event handlers to \"Next\" buttons in each tab\n",
    "        self.first.login_button.on_click(self.switch_to_second)\n",
    "        self.second.next_button.on_click(self.switch_to_third)\n",
    "        self.third.next_button.on_click(self.switch_to_fourth)\n",
    "    \n",
    "    def switch_to_second(self, button):\n",
    "        self.selected_index = 1\n",
    "    \n",
    "    def switch_to_third(self, button):\n",
    "        self.selected_index = 2\n",
    "    \n",
    "    def switch_to_fourth(self, button):\n",
    "        self.selected_index = 3\n",
    "        "
   ]
  },
  {
   "cell_type": "code",
   "execution_count": null,
   "id": "9ca28623-ed1f-4f1c-b671-462ee582040f",
   "metadata": {},
   "outputs": [],
   "source": [
    "educator_main = EducatorMain()\n",
    "educator_main"
   ]
  },
  {
   "cell_type": "code",
   "execution_count": null,
   "id": "7548d87a-94e3-4cdc-bb20-fe46ec366425",
   "metadata": {},
   "outputs": [],
   "source": [
    "#| export\n",
    "class StudentMain(widgets.Tab):\n",
    "    \n",
    "    def __init__(self):\n",
    "        super().__init__()\n",
    "        \n",
    "        # initialize models\n",
    "        # self.model = EducatorModel(FILENAME)\n",
    "        self.student_chatbot_model = ChatBotModel(madlibs_list)\n",
    "\n",
    "        # initialize views\n",
    "        self.first = Login()\n",
    "        self.second = StudentProfile()\n",
    "        self.file_viewer = FileViewerView()\n",
    "        self.third = StudentCourseOverview(self.file_viewer)\n",
    "        self.fourth = ChatBot(self.student_chatbot_model)\n",
    "\n",
    "        \n",
    "        # Add tabs to the Tab widget\n",
    "        self.children = (self.first, self.second, self.third, self.fourth)\n",
    "\n",
    "        self.set_title(0, 'LogIn')\n",
    "        self.set_title(1, 'User Profile')\n",
    "        self.set_title(2, 'Course Overview')\n",
    "        self.set_title(3, 'Test/Assn Generator')\n",
    "\n",
    "\n",
    "        # Add event handlers to \"Next\" buttons in each tab\n",
    "        self.first.login_button.on_click(self.switch_to_second)\n",
    "        self.second.next_button.on_click(self.switch_to_third)\n",
    "        self.third.next_button.on_click(self.switch_to_fourth)\n",
    "    \n",
    "    def switch_to_second(self, button):\n",
    "        self.selected_index = 1\n",
    "    \n",
    "    def switch_to_third(self, button):\n",
    "        self.selected_index = 2\n",
    "    \n",
    "    def switch_to_fourth(self, button):\n",
    "        self.selected_index = 3"
   ]
  },
  {
   "cell_type": "code",
   "execution_count": null,
   "id": "36cabf8d-427b-4d24-9c5d-8a6f8e4ab6b5",
   "metadata": {},
   "outputs": [],
   "source": [
    "student_main = StudentMain()\n",
    "student_main"
   ]
  },
  {
   "cell_type": "code",
   "execution_count": null,
   "id": "dbcd4520-400c-4e2e-9923-a5da0adb1c34",
   "metadata": {},
   "outputs": [],
   "source": [
    "#| hide\n",
    "import nbdev; nbdev.nbdev_export()"
   ]
  },
  {
   "cell_type": "code",
   "execution_count": null,
   "id": "3d5f570c-0b64-4a9e-bec7-d44d04006894",
   "metadata": {},
   "outputs": [],
   "source": []
  }
 ],
 "metadata": {
  "kernelspec": {
   "display_name": "python3",
   "language": "python",
   "name": "python3"
  }
 },
 "nbformat": 4,
 "nbformat_minor": 5
}
