{
 "cells": [
  {
   "cell_type": "code",
   "execution_count": null,
   "id": "771a1926-b456-4819-8280-60d967287d01",
   "metadata": {},
   "outputs": [],
   "source": [
    "#|default_exp llm"
   ]
  },
  {
   "cell_type": "code",
   "execution_count": null,
   "id": "742b7725-626b-4bf0-82d2-3c2cd5046390",
   "metadata": {},
   "outputs": [],
   "source": [
    "#|export\n",
    "from traitlets import HasTraits, Unicode\n",
    "from langchain_openai import ChatOpenAI\n",
    "import os\n",
    "from langchain.docstore.document import Document\n",
    "from langchain_community.document_loaders import UnstructuredMarkdownLoader\n",
    "from langchain_openai import OpenAIEmbeddings\n",
    "from langchain_community.document_loaders import PyPDFLoader\n",
    "from langchain_community.vectorstores import FAISS\n",
    "from langchain_openai import OpenAIEmbeddings"
   ]
  },
  {
   "cell_type": "code",
   "execution_count": null,
   "id": "c190815d-5e5d-4852-9afb-aa8617523327",
   "metadata": {},
   "outputs": [],
   "source": [
    "#|export\n",
    "class LLM(HasTraits):\n",
    "\n",
    "    def __init__(self, filepath='OPENAI_API_KEY'):\n",
    "        super().__init__()\n",
    "\n",
    "        with open(filepath, 'r') as file:\n",
    "            openai_api_key = file.read().strip()\n",
    "        os.environ['OPENAI_API_KEY'] = openai_api_key\n",
    "        self.llm = ChatOpenAI(model_name=\"gpt-3.5-turbo\")"
   ]
  },
  {
   "cell_type": "code",
   "execution_count": null,
   "id": "0fe7b857-ee4c-403f-a84f-d6be5f72ac68",
   "metadata": {},
   "outputs": [
    {
     "data": {
      "text/plain": [
       "<__main__.LLM>"
      ]
     },
     "execution_count": null,
     "metadata": {},
     "output_type": "execute_result"
    }
   ],
   "source": [
    "llm_model = LLM('OPENAI_API_KEY')\n",
    "llm_model"
   ]
  },
  {
   "cell_type": "code",
   "execution_count": null,
   "id": "6d17e6f7-742e-42ae-82ee-798fd62b38ce",
   "metadata": {},
   "outputs": [],
   "source": [
    "#| export\n",
    "class FileModel(LLM):\n",
    "    # Define a Unicode string trait\n",
    "    select = Unicode()\n",
    "\n",
    "    def __init__(self):\n",
    "        super().__init__()\n",
    "        #self.embeddings = OpenAIEmbeddings()\n",
    "        #doc = Document(page_content='Course')\n",
    "        #self.db = FAISS.from_documents(doc, self.embeddings)\n",
    "\n",
    "    def save_content_from_upload(values):\n",
    "        for value in values:\n",
    "            with open('course_files/' + value['name'], \"wb\") as fp:\n",
    "                fp.write(value['content'])\n",
    "\n",
    "    def load_text(self, text):\n",
    "        doc = Document(page_content=text)\n",
    "        db = FAISS.from_documents(doc, self.embeddings)\n",
    "        self.db.merge_from(db)\n",
    "\n",
    "    def load_pdf(self, filepath):\n",
    "        loader = PyPDFLoader(filepath) \n",
    "        pages = loader.load_and_split()\n",
    "        db = FAISS.from_documents(pages, self.embeddings)\n",
    "        self.db.merge_from(db)\n",
    "\n",
    "    def load_markdown(filepath):\n",
    "        loader = UnstructuredMarkdownLoader(filepath, mode=\"elements\") #mode=elements breaks up the text into chunks\n",
    "        doc = loader.load()\n",
    "        db = FAISS.from_documents(doc, embeddings)\n",
    "        self.db.merge_from(db)\n",
    "\n",
    "    def save_content_from_upload(values):\n",
    "        for value in values:\n",
    "            with open(value['name'], \"wb\") as fp:\n",
    "                fp.write(value['content'])"
   ]
  },
  {
   "cell_type": "code",
   "execution_count": null,
   "id": "7123efbd-7219-41e3-9faf-de32cf90595e",
   "metadata": {},
   "outputs": [],
   "source": [
    "file_model = FileModel()\n",
    "#file_model.load_pdf(\"STP 420 spring 2024 course syllabus.pdf\") #file as input"
   ]
  },
  {
   "cell_type": "code",
   "execution_count": null,
   "id": "ea39baff-3a1a-4a9b-999c-ef433ea2897a",
   "metadata": {},
   "outputs": [],
   "source": [
    "#|hide\n",
    "import nbdev; nbdev.nbdev_export()"
   ]
  },
  {
   "cell_type": "code",
   "execution_count": null,
   "id": "980459d7-b53c-4773-b528-e7c24f338ec2",
   "metadata": {},
   "outputs": [],
   "source": []
  }
 ],
 "metadata": {
  "kernelspec": {
   "display_name": "python3",
   "language": "python",
   "name": "python3"
  }
 },
 "nbformat": 4,
 "nbformat_minor": 5
}
