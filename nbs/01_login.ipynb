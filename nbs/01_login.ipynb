{
 "cells": [
  {
   "cell_type": "code",
   "execution_count": 38,
   "id": "f561c615-c749-46ad-be05-1c23b4895b1c",
   "metadata": {},
   "outputs": [],
   "source": [
    "## This is the first tab for the log-in screen. "
   ]
  },
  {
   "cell_type": "code",
   "execution_count": 39,
   "id": "543f060f-5d9b-4b76-9354-f8483575b468",
   "metadata": {},
   "outputs": [],
   "source": [
    "#| default_exp login"
   ]
  },
  {
   "cell_type": "code",
   "execution_count": 40,
   "id": "112bc93b-c8cb-4576-87e9-045e953979d0",
   "metadata": {},
   "outputs": [],
   "source": [
    "#| export\n",
    "import ipywidgets as widgets\n",
    "from ipywidgets import VBox, HTML, HBox, Label, Tab, Output, Button, Text\n",
    "from IPython.display import display, clear_output\n",
    "import ipyvuetify as v\n"
   ]
  },
  {
   "cell_type": "code",
   "execution_count": 57,
   "id": "7a9ea954-5bcd-4871-87a6-fe01fc3590f3",
   "metadata": {},
   "outputs": [],
   "source": [
    "#| export\n",
    "class Login(VBox):\n",
    "    \n",
    "    def __init__(self):\n",
    "        super().__init__()\n",
    "        \n",
    "        # Username input\n",
    "        self.username_input = v.TextField(label='Username:', placeholder='Enter username')\n",
    "        \n",
    "        # Password input   \n",
    "        self.key_input = v.TextField(label='API Key:', placeholder='Enter API key')\n",
    "        \n",
    "        # Login button\n",
    "        self.login_button = Button(description='Login')\n",
    "\n",
    "        #Header\n",
    "        self.header = v.Container(children=[\n",
    "            v.Html(\n",
    "                tag='h1',\n",
    "                attributes={'title': 'a title'},\n",
    "                children=['Log In']\n",
    "            )\n",
    "        ])\n",
    "\n",
    "        \n",
    "        # Arrange widgets vertically\n",
    "        self.children = [\n",
    "            self.header,  # Heading\n",
    "            self.username_input,       # Username label and input box\n",
    "            self.key_input,       # Password label and input box\n",
    "            HBox([self.login_button], layout={'justify_content': 'flex-end'}),  # Login button aligned to the right\n",
    "        ]"
   ]
  },
  {
   "cell_type": "code",
   "execution_count": 58,
   "id": "6e8d6319-0a74-4021-b604-cf66c4656cf9",
   "metadata": {},
   "outputs": [
    {
     "data": {
      "application/vnd.jupyter.widget-view+json": {
       "model_id": "9094a779ce6a4c4588a978fb5d47e717",
       "version_major": 2,
       "version_minor": 0
      },
      "text/plain": [
       "Login(children=(Container(children=[Html(attributes={'title': 'a title'}, children=['Log In'], layout=None, ta…"
      ]
     },
     "execution_count": 58,
     "metadata": {},
     "output_type": "execute_result"
    }
   ],
   "source": [
    "main = Login()\n",
    "main"
   ]
  },
  {
   "cell_type": "code",
   "execution_count": 59,
   "id": "94fce144-391e-4917-86ea-d8e8fde8c3ca",
   "metadata": {},
   "outputs": [],
   "source": [
    "#| hide\n",
    "import nbdev; nbdev.nbdev_export()"
   ]
  },
  {
   "cell_type": "code",
   "execution_count": null,
   "id": "ebb79ca1-824c-4eba-970b-83fa04b4af7a",
   "metadata": {},
   "outputs": [],
   "source": []
  },
  {
   "cell_type": "code",
   "execution_count": null,
   "id": "3f26512b-9376-45c0-aa0a-51fd82356acb",
   "metadata": {},
   "outputs": [],
   "source": []
  }
 ],
 "metadata": {
  "kernelspec": {
   "display_name": "Python 3 (ipykernel)",
   "language": "python",
   "name": "python3"
  },
  "language_info": {
   "codemirror_mode": {
    "name": "ipython",
    "version": 3
   },
   "file_extension": ".py",
   "mimetype": "text/x-python",
   "name": "python",
   "nbconvert_exporter": "python",
   "pygments_lexer": "ipython3",
   "version": "3.8.19"
  }
 },
 "nbformat": 4,
 "nbformat_minor": 5
}
