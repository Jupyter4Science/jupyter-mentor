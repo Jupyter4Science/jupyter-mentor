{
 "cells": [
  {
   "cell_type": "code",
   "execution_count": null,
   "id": "05a3695f-3d73-455d-9a5c-a4ff9cc7fcdd",
   "metadata": {},
   "outputs": [],
   "source": [
    "#| default_exp educator_profile"
   ]
  },
  {
   "cell_type": "code",
   "execution_count": null,
   "id": "6d1adfd1-1896-42a6-9333-2c610debe906",
   "metadata": {},
   "outputs": [],
   "source": [
    "#| export\n",
    "import ipywidgets as widgets\n",
    "from ipywidgets import VBox, HTML, HBox, Label, Tab, Output, Button, Text\n",
    "from IPython.display import display, clear_output\n",
    "import ipyvuetify as v"
   ]
  },
  {
   "cell_type": "code",
   "execution_count": null,
   "id": "adc63ca1-f6d9-402f-9e10-d3d7770d401a",
   "metadata": {},
   "outputs": [],
   "source": [
    "#| export\n",
    "class EducatorProfile(widgets.VBox):\n",
    "    \n",
    "    def __init__(self):\n",
    "        super().__init__()\n",
    "        \n",
    "        # Username input\n",
    "        self.username_label = Label('Name:')\n",
    "        self.username_input = Text(placeholder='Enter your name')\n",
    "        \n",
    "        # Password input\n",
    "        self.key_label = Label('Educator:')\n",
    "        self.key_input = Text(placeholder='Enter Your Level', password=True)\n",
    "        \n",
    "        # Next button\n",
    "        self.next_button = Button(description='Next')\n",
    "        \n",
    "        # Arrange labels and inputs horizontally\n",
    "        self.username_box = HBox([self.username_label, self.username_input])\n",
    "        self.key_box = HBox([self.key_label, self.key_input])\n",
    "        \n",
    "        # Arrange widgets vertically\n",
    "        self.children = [\n",
    "            HTML('<h2>User Profile</h2>'),  # Heading\n",
    "            self.username_box,       # Username label and input box\n",
    "            self.key_box,       # Password label and input box\n",
    "            HBox([self.next_button], layout={'justify_content': 'flex-end'}),  # Login button aligned to the right\n",
    "        ]"
   ]
  },
  {
   "cell_type": "code",
   "execution_count": null,
   "id": "5a64bb34-72f7-4ec5-884d-d3ee0899c420",
   "metadata": {},
   "outputs": [],
   "source": [
    "#| hide\n",
    "import nbdev; nbdev.nbdev_export()"
   ]
  },
  {
   "cell_type": "code",
   "execution_count": null,
   "id": "5a72bcc8-cf21-4143-9112-a1a17ca02869",
   "metadata": {},
   "outputs": [],
   "source": []
  }
 ],
 "metadata": {
  "kernelspec": {
   "display_name": "python3",
   "language": "python",
   "name": "python3"
  }
 },
 "nbformat": 4,
 "nbformat_minor": 5
}
