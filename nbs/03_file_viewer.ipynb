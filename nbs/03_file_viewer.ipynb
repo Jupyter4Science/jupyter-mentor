{
 "cells": [
  {
   "cell_type": "code",
   "execution_count": null,
   "id": "d09b853a-3124-4232-9618-3b6761678bc5",
   "metadata": {},
   "outputs": [],
   "source": [
    "#| default_exp file_viewer"
   ]
  },
  {
   "cell_type": "code",
   "execution_count": null,
   "id": "d8e6a32e-e248-4ec4-9763-7a18c8cd0b9b",
   "metadata": {},
   "outputs": [],
   "source": [
    "#| export\n",
    "import ipywidgets as widgets\n",
    "from ipywidgets import VBox, HBox, HTML, Button, Label, Text, Checkbox, Accordion, FileUpload\n",
    "from IPython.display import display, clear_output\n",
    "import ipyvuetify as v\n",
    "from traitlets import observe, HasTraits, Unicode\n",
    "from ipyfilechooser import FileChooser"
   ]
  },
  {
   "cell_type": "code",
   "execution_count": null,
   "id": "07c50690-0a66-4b72-b819-6fd06b1c9016",
   "metadata": {},
   "outputs": [],
   "source": [
    "#| export\n",
    "class FileViewerView(Accordion):\n",
    "    \n",
    "    def __init__(self):\n",
    "        super().__init__()\n",
    "\n",
    "\n",
    "        self.file_upload = widgets.FileUpload(\n",
    "            accept='',  # Accepted file extension e.g. '.txt', '.pdf', 'image/*', 'image/*,.pdf'\n",
    "            multiple=False  # True to accept multiple files upload else False\n",
    "        )\n",
    "        self.file_browser = FileChooser()\n",
    "        self.file_browser.sandbox_path = '.'\n",
    "        self.file_browser.filter_pattern = ['*.pdf', '*.md']\n",
    "        self.file_browser.title = '<b>File Selector</b>' # Change the title (use '' to hide)\n",
    "\n",
    "        # TODO: file_download\n",
    "        \n",
    "        # File viewer (hidden in accordion)\n",
    "        self.selected_index = None  # Hide the accordion content initially\n",
    "        self.titles = ('Course Files',) # this isn't working for some reason\n",
    "        \n",
    "        self.vbox = VBox()\n",
    "        self.vbox.children = (self.file_upload, self.file_browser)  # File viewer (hidden initially)\n",
    "\n",
    "        self.children = (self.vbox, )"
   ]
  },
  {
   "cell_type": "code",
   "execution_count": null,
   "id": "ae7ac138-aa5d-4c47-ae8d-18deb24b5627",
   "metadata": {},
   "outputs": [],
   "source": [
    "file_viewer = FileViewerView()\n",
    "file_viewer.title = ('Course Files', )\n",
    "file_viewer"
   ]
  },
  {
   "cell_type": "code",
   "execution_count": null,
   "id": "426a6594-daa2-4492-92e8-d7393983611b",
   "metadata": {},
   "outputs": [],
   "source": [
    "uploader = widgets.FileUpload()\n",
    "display(uploader)"
   ]
  },
  {
   "cell_type": "code",
   "execution_count": null,
   "id": "a05bb8a4-1a6c-4bc9-8875-efdc6a0f97af",
   "metadata": {},
   "outputs": [],
   "source": [
    "#uploader.value[0]"
   ]
  },
  {
   "cell_type": "code",
   "execution_count": null,
   "id": "5f576dfa-b332-42b5-be09-07f3ff35d89c",
   "metadata": {},
   "outputs": [],
   "source": [
    "def save_content(values):\n",
    "    for value in values:\n",
    "        with open(value['name'], \"wb\") as fp:\n",
    "            fp.write(value['content'])\n"
   ]
  },
  {
   "cell_type": "code",
   "execution_count": null,
   "id": "f6e04b61-63b2-4c4d-a406-60ae27fd0d8b",
   "metadata": {},
   "outputs": [],
   "source": [
    "save_content(uploader.value)"
   ]
  },
  {
   "cell_type": "code",
   "execution_count": null,
   "id": "81c5a940-20b9-4fe6-acf8-d8ac1bd48af7",
   "metadata": {},
   "outputs": [],
   "source": [
    "#| export\n",
    "class FileModel(HasTraits):\n",
    "    # Define a Unicode string trait\n",
    "    select = Unicode()\n",
    "\n",
    "    def save_content_from_upload(values):\n",
    "        for value in values:\n",
    "            with open(value['name'], \"wb\") as fp:\n",
    "                fp.write(value['content'])"
   ]
  },
  {
   "cell_type": "code",
   "execution_count": null,
   "id": "d9932d2c-4a22-4eda-8c54-8381d95cd5fe",
   "metadata": {},
   "outputs": [],
   "source": [
    "file_model = FileModel()\n",
    "file_model"
   ]
  },
  {
   "cell_type": "code",
   "execution_count": null,
   "id": "22947b1e-8e2c-4f22-9ead-04de43d5f275",
   "metadata": {},
   "outputs": [],
   "source": [
    "#| export\n",
    "class FileViewer(FileViewerView):\n",
    "    \n",
    "    def __init__(self, model):\n",
    "        super().__init__()\n",
    "        self.model = model\n",
    "        self.file_browser.register_callback(self.observe_file_select)\n",
    "        \n",
    "    def observe_file_select(self, file_browser):\n",
    "        # update download button with correct filepath\n",
    "        # filepath stored in self.file_browser.selected\n",
    "        pass"
   ]
  },
  {
   "cell_type": "code",
   "execution_count": null,
   "id": "cde62d18-36f1-4adc-be3b-b4affc61adb1",
   "metadata": {},
   "outputs": [],
   "source": [
    "fileviewer = FileViewer(file_model)\n",
    "fileviewer"
   ]
  },
  {
   "cell_type": "code",
   "execution_count": null,
   "id": "7998731f-8fad-4390-98e6-430da005160d",
   "metadata": {},
   "outputs": [],
   "source": [
    "    def file_upload(self, file_data):\n",
    "        \"\"\"\n",
    "        Handle file upload.\n",
    "        file_data: content of the file to be uploaded\n",
    "        \"\"\"\n",
    "        # Process file_data for upload\n",
    "        print(\"Uploading file...\")\n",
    "        # Here, you would include logic to handle the file upload\n",
    "\n",
    "    def file_download(self, file_path):\n",
    "        \"\"\"\n",
    "        Handle file download.\n",
    "        file_path: path or identifier for the file to be downloaded\n",
    "        \"\"\"\n",
    "        # Process file download\n",
    "        print(\"Downloading file from:\", file_path)\n",
    "        # Here, you would include logic to handle the file download\n",
    "        # and perhaps return the file content or a success indicator"
   ]
  },
  {
   "cell_type": "code",
   "execution_count": null,
   "id": "7cd9b87a-4ce9-42b7-857d-037a7a0b3d44",
   "metadata": {},
   "outputs": [],
   "source": [
    "#| hide\n",
    "import nbdev; nbdev.nbdev_export()"
   ]
  },
  {
   "cell_type": "code",
   "execution_count": null,
   "id": "5a75be53-5c9c-43d2-9aaa-b4c3c2ecab8d",
   "metadata": {},
   "outputs": [],
   "source": []
  }
 ],
 "metadata": {
  "kernelspec": {
   "display_name": "python3",
   "language": "python",
   "name": "python3"
  }
 },
 "nbformat": 4,
 "nbformat_minor": 5
}
