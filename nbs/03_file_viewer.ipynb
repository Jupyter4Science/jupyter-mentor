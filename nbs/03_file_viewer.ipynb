{
 "cells": [
  {
   "cell_type": "code",
   "execution_count": null,
   "id": "d09b853a-3124-4232-9618-3b6761678bc5",
   "metadata": {},
   "outputs": [],
   "source": [
    "#|default_exp file_viewer"
   ]
  },
  {
   "cell_type": "code",
   "execution_count": null,
   "id": "d8e6a32e-e248-4ec4-9763-7a18c8cd0b9b",
   "metadata": {},
   "outputs": [],
   "source": [
    "#|export\n",
    "import ipywidgets as widgets\n",
    "from ipywidgets import VBox, HBox, HTML, Button, Label, Text, Checkbox, Accordion, FileUpload\n",
    "from IPython.display import display, clear_output\n",
    "import ipyvuetify as v\n",
    "from traitlets import observe, HasTraits, Unicode\n",
    "from ipyfilechooser import FileChooser\n",
    "from langchain_community.document_loaders import PyPDFLoader\n",
    "from langchain_community.vectorstores import FAISS\n",
    "from langchain_openai import OpenAIEmbeddings\n",
    "from jupyter_mentor.llm import LLM, FileModel"
   ]
  },
  {
   "cell_type": "code",
   "execution_count": null,
   "id": "07c50690-0a66-4b72-b819-6fd06b1c9016",
   "metadata": {},
   "outputs": [],
   "source": [
    "#| export\n",
    "class FileViewerView(Accordion):\n",
    "    \n",
    "    def __init__(self):\n",
    "        super().__init__()\n",
    "\n",
    "        # TODO: put file upload /viewer (with pandasdf or mercury, etc) in separate class (FileUploader)\n",
    "        # FileDownloader: ipyfilechooser and download button\n",
    "\n",
    "        self.file_upload = widgets.FileUpload(\n",
    "            accept='',  # Accepted file extension e.g. '.txt', '.pdf', 'image/*', 'image/*,.pdf'\n",
    "            multiple=False  # True to accept multiple files upload else False\n",
    "        )\n",
    "        self.file_browser = FileChooser()\n",
    "        self.file_browser.sandbox_path = '.'\n",
    "        self.file_browser.filter_pattern = ['*.pdf', '*.md']\n",
    "        self.file_browser.title = '<b>File Selector</b>' # Change the title (use '' to hide)\n",
    "\n",
    "        # TODO: file_download\n",
    "        \n",
    "        # File viewer (hidden in accordion)\n",
    "        self.selected_index = None  # Hide the accordion content initially\n",
    "        self.titles = ('Course Files',) # this isn't working for some reason\n",
    "        \n",
    "        self.vbox = VBox()\n",
    "        self.vbox.children = (self.file_upload, self.file_browser)  # File viewer (hidden initially)\n",
    "\n",
    "        self.children = (self.vbox, )"
   ]
  },
  {
   "cell_type": "code",
   "execution_count": null,
   "id": "ae7ac138-aa5d-4c47-ae8d-18deb24b5627",
   "metadata": {},
   "outputs": [
    {
     "data": {
      "application/vnd.jupyter.widget-view+json": {
       "model_id": "89969658c2d14063bf5d1f5f24b62ae6",
       "version_major": 2,
       "version_minor": 0
      },
      "text/plain": [
       "FileViewerView(children=(VBox(children=(FileUpload(value=(), description='Upload'), FileChooser(path='/Users/n…"
      ]
     },
     "execution_count": null,
     "metadata": {},
     "output_type": "execute_result"
    }
   ],
   "source": [
    "file_viewer = FileViewerView()\n",
    "file_viewer.title = ('Course Files', )\n",
    "file_viewer"
   ]
  },
  {
   "cell_type": "code",
   "execution_count": null,
   "id": "426a6594-daa2-4492-92e8-d7393983611b",
   "metadata": {},
   "outputs": [
    {
     "data": {
      "application/vnd.jupyter.widget-view+json": {
       "model_id": "7ca700d8f11e47848cf70529acf1c34c",
       "version_major": 2,
       "version_minor": 0
      },
      "text/plain": [
       "FileUpload(value=(), description='Upload')"
      ]
     },
     "metadata": {},
     "output_type": "display_data"
    }
   ],
   "source": [
    "uploader = widgets.FileUpload()\n",
    "display(uploader)"
   ]
  },
  {
   "cell_type": "code",
   "execution_count": null,
   "id": "a05bb8a4-1a6c-4bc9-8875-efdc6a0f97af",
   "metadata": {},
   "outputs": [],
   "source": [
    "#uploader.value[0]"
   ]
  },
  {
   "cell_type": "code",
   "execution_count": null,
   "id": "aa7f8081-d77d-4b6f-b739-31349382affe",
   "metadata": {},
   "outputs": [],
   "source": [
    "#| export\n",
    "class FileViewer(FileViewerView):\n",
    "    \n",
    "    def __init__(self, model):\n",
    "        super().__init__()\n",
    "        self.model = model\n",
    "        self.file_browser.register_callback(self.observe_file_select)\n",
    "        \n",
    "    def observe_file_select(self, file_browser):\n",
    "        # update download button with correct filepath\n",
    "        # filepath stored in self.file_browser.selected\n",
    "        pass"
   ]
  },
  {
   "cell_type": "code",
   "execution_count": null,
   "id": "23878cd3-a2d7-4316-b028-ac59e7fc2d55",
   "metadata": {},
   "outputs": [
    {
     "data": {
      "application/vnd.jupyter.widget-view+json": {
       "model_id": "7e27fb9fa8c64143a9a784457edbf6f8",
       "version_major": 2,
       "version_minor": 0
      },
      "text/plain": [
       "FileViewer(children=(VBox(children=(FileUpload(value=(), description='Upload'), FileChooser(path='/Users/nabre…"
      ]
     },
     "execution_count": null,
     "metadata": {},
     "output_type": "execute_result"
    }
   ],
   "source": [
    "file_model = FileModel()\n",
    "fileviewer = FileViewer(file_model)\n",
    "fileviewer"
   ]
  },
  {
   "cell_type": "code",
   "execution_count": null,
   "id": "f4b9ae70-b76b-4fc7-8274-f9c274a3ebe3",
   "metadata": {},
   "outputs": [],
   "source": [
    "    def file_upload(self, file_data):\n",
    "        \"\"\"\n",
    "        Handle file upload.\n",
    "        file_data: content of the file to be uploaded\n",
    "        \"\"\"\n",
    "        # Process file_data for upload\n",
    "        print(\"Uploading file...\")\n",
    "        # Here, you would include logic to handle the file upload\n",
    "\n",
    "    def file_download(self, file_path):\n",
    "        \"\"\"\n",
    "        Handle file download.\n",
    "        file_path: path or identifier for the file to be downloaded\n",
    "        \"\"\"\n",
    "        # Process file download\n",
    "        print(\"Downloading file from:\", file_path)\n",
    "        # Here, you would include logic to handle the file download\n",
    "        # and perhaps return the file content or a success indicator"
   ]
  },
  {
   "cell_type": "code",
   "execution_count": null,
   "id": "7cd9b87a-4ce9-42b7-857d-037a7a0b3d44",
   "metadata": {},
   "outputs": [
    {
     "name": "stderr",
     "output_type": "stream",
     "text": [
      "/opt/homebrew/Caskroom/miniconda/base/envs/jupyter-mentor/lib/python3.11/site-packages/nbdev/export.py:54: UserWarning: Notebook '/Users/nabrewer/Repos/Jupyter4Science/jupyter-mentor/nbs/00_main.ipynb' uses `#|export` without `#|default_exp` cell.\n",
      "Note nbdev2 no longer supports nbdev1 syntax. Run `nbdev_migrate` to upgrade.\n",
      "See https://nbdev.fast.ai/getting_started.html for more information.\n",
      "  warn(f\"Notebook '{nbname}' uses `#|export` without `#|default_exp` cell.\\n\"\n"
     ]
    }
   ],
   "source": [
    "#| hide\n",
    "import nbdev; nbdev.nbdev_export()"
   ]
  },
  {
   "cell_type": "code",
   "execution_count": null,
   "id": "5a75be53-5c9c-43d2-9aaa-b4c3c2ecab8d",
   "metadata": {},
   "outputs": [],
   "source": []
  }
 ],
 "metadata": {
  "kernelspec": {
   "display_name": "python3",
   "language": "python",
   "name": "python3"
  }
 },
 "nbformat": 4,
 "nbformat_minor": 5
}
