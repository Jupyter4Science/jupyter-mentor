{
 "cells": [
  {
   "cell_type": "code",
   "execution_count": null,
   "id": "d09b853a-3124-4232-9618-3b6761678bc5",
   "metadata": {},
   "outputs": [],
   "source": [
    "#| default_exp file_viewer"
   ]
  },
  {
   "cell_type": "code",
   "execution_count": null,
   "id": "d8e6a32e-e248-4ec4-9763-7a18c8cd0b9b",
   "metadata": {},
   "outputs": [],
   "source": [
    "#| export\n",
    "import ipywidgets as widgets\n",
    "from ipywidgets import VBox, HBox, HTML, Button, Label, Text, Checkbox, Accordion, FileUpload\n",
    "from IPython.display import display, clear_output\n",
    "import ipyvuetify as v\n",
    "from traitlets import observe"
   ]
  },
  {
   "cell_type": "code",
   "execution_count": null,
   "id": "07c50690-0a66-4b72-b819-6fd06b1c9016",
   "metadata": {},
   "outputs": [],
   "source": [
    "#| export\n",
    "\n",
    "class FileViewer(VBox):\n",
    "    \n",
    "    def __init__(self):\n",
    "        super().__init__()\n",
    "        \n",
    "        # File viewer (hidden in accordion)\n",
    "        self.file_viewer_accordion = Accordion(children=[HTML('File viewer content')])\n",
    "        self.file_viewer_accordion.selected_index = None  # Hide the accordion content initially\n",
    "\n",
    "        # Arrange widgets vertically\n",
    "        self.children = [\n",
    "            self.file_viewer_accordion,  # File viewer (hidden initially)\n",
    "        ]"
   ]
  },
  {
   "cell_type": "code",
   "execution_count": null,
   "id": "ae7ac138-aa5d-4c47-ae8d-18deb24b5627",
   "metadata": {},
   "outputs": [],
   "source": [
    "file_viewer = FileViewer()\n",
    "file_viewer"
   ]
  },
  {
   "cell_type": "code",
   "execution_count": null,
   "id": "7cd9b87a-4ce9-42b7-857d-037a7a0b3d44",
   "metadata": {},
   "outputs": [],
   "source": [
    "#| hide\n",
    "import nbdev; nbdev.nbdev_export()"
   ]
  },
  {
   "cell_type": "code",
   "execution_count": null,
   "id": "5a75be53-5c9c-43d2-9aaa-b4c3c2ecab8d",
   "metadata": {},
   "outputs": [],
   "source": []
  }
 ],
 "metadata": {
  "kernelspec": {
   "display_name": "python3",
   "language": "python",
   "name": "python3"
  }
 },
 "nbformat": 4,
 "nbformat_minor": 5
}
