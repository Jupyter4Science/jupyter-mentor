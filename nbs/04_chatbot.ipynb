{
 "cells": [
  {
   "cell_type": "code",
   "execution_count": null,
   "id": "2fb38978-5490-48f8-8a5d-af97e10ea493",
   "metadata": {},
   "outputs": [],
   "source": [
    "#| default_exp chatbot"
   ]
  },
  {
   "cell_type": "code",
   "execution_count": null,
   "id": "e1321e10-d2e8-4cbb-bfa2-8b9e57dcdb24",
   "metadata": {},
   "outputs": [],
   "source": [
    "#| export\n",
    "import ipywidgets as widgets\n",
    "import traitlets\n",
    "from ipywidgets import Textarea, Text, Layout, HBox, Stack, Layout\n",
    "from traitlets import HasTraits\n",
    "import os\n",
    "from langchain_openai import ChatOpenAI\n",
    "from langchain_core.messages import HumanMessage, SystemMessage\n",
    "from langchain_core.prompts.chat import (\n",
    "    ChatPromptTemplate,\n",
    "    HumanMessagePromptTemplate,\n",
    "    SystemMessagePromptTemplate,\n",
    ")\n",
    "from langchain_openai import ChatOpenAI\n",
    "from jupyter_mentor.llm import FileModel"
   ]
  },
  {
   "cell_type": "code",
   "execution_count": null,
   "id": "e51169c6-346e-4b2c-94d0-dd529156e3ba",
   "metadata": {},
   "outputs": [],
   "source": [
    "class ChatBotModel(FileModel):\n",
    "\n",
    "    bot_identity = traitlets.Unicode()\n",
    "    human_identity = traitlets.Unicode()\n",
    "\n",
    "    def __init__(self, bot_template=\"\", human_template=\"{input_text}\"):\n",
    "        super().__init__()\n",
    "        self.bot_identity = \"You are playing the role of a tutor/educator\"\n",
    "        self.human_identity = \"I am a student\"\n",
    "        self.update_bot_template(bot_template)\n",
    "        self.update_human_template(human_template)\n",
    "\n",
    "    def update_bot_template(self, bot_template):\n",
    "        self.bot_message_prompt = SystemMessagePromptTemplate.from_template(\"\\n\\n\".join([self.bot_identity, bot_template]))\n",
    "\n",
    "    def update_human_template(self, human_template):\n",
    "        self.human_message_prompt = HumanMessagePromptTemplate.from_template(\"\\n\\n\".join([self.human_identity, human_template]))\n",
    "\n",
    "    def prompt(self, input_text):\n",
    "        ret = self.llm.invoke(input_text)\n",
    "        return ret.content\n",
    "    \n",
    "    def prompt_with_template(self, kwargs):\n",
    "        self.chat_prompt = ChatPromptTemplate.from_messages([self.bot_message_prompt, self.human_message_prompt])   \n",
    "        ret = self.llm.invoke(self.chat_prompt.format_prompt(**kwargs))\n",
    "        return ret.content\n",
    "\n",
    "    def prompt_course_files(self, input_text):\n",
    "        if self.db:\n",
    "            try:\n",
    "                docs = self.db.similarity_search(input_text, k=1)\n",
    "                docs_content = \" \".join([d.page_content for d in docs])\n",
    "                self.update_bot_template(self.bot_identity + \"\\n\\nAnswer the question based on the following information: {docs}\\n\\n{input_text}\")\n",
    "                self.chat_prompt = ChatPromptTemplate.from_messages([self.bot_message_prompt, self.human_message_prompt])   \n",
    "                ret = self.llm.invoke(self.chat_prompt.format_prompt(docs=docs, input_text=input_text)) \n",
    "                return \"\\n\\n\".join([ret.content + '\\n\\nSourced from ' + docs[0].metadata['source'] + ': \\n', docs_content])\n",
    "            except Exception as e: \n",
    "                return e\n",
    "        else:\n",
    "            return self.prompt(input_text)"
   ]
  },
  {
   "cell_type": "code",
   "execution_count": null,
   "id": "61e4604a-0885-49a8-a8eb-36994a8fddbb",
   "metadata": {},
   "outputs": [],
   "source": [
    "chatbot_model = ChatBotModel()\n",
    "#chatbot_model.prompt('hello')\n",
    "#chatbot_model.prompt_with_template({'input_text': 'hi'})"
   ]
  },
  {
   "cell_type": "code",
   "execution_count": null,
   "id": "6428f443-ca45-47ae-80b3-755f010c89e6",
   "metadata": {},
   "outputs": [],
   "source": [
    "chatbot_model.load_pdf_to_db(\"course_files/STP 420 spring 2024 course syllabus.pdf\")"
   ]
  },
  {
   "cell_type": "code",
   "execution_count": null,
   "id": "5eb37adf-e4d1-45bb-a481-9123d23be622",
   "metadata": {},
   "outputs": [],
   "source": [
    "chatbot_model.prompt_course_files(\"when will we learn about integration?\", )"
   ]
  },
  {
   "cell_type": "code",
   "execution_count": null,
   "id": "950062ca-2dda-4c7f-a00e-fc0fde477b0a",
   "metadata": {},
   "outputs": [],
   "source": [
    "class ChatBotView(widgets.VBox):\n",
    "    \n",
    "    def __init__(self):\n",
    "        # If you forget to call the superconstructor on an extended widget\n",
    "        # you will get an AttributeError: object has no attribute '_model_id'\n",
    "        super().__init__()\n",
    "\n",
    "        self.chat = Textarea(\n",
    "            disabled = True,\n",
    "            layout=Layout(width='90%', height='400px')\n",
    "        )\n",
    "        self.user_input_and_submit = HBox()\n",
    "        self.user_input = widgets.Text(\n",
    "            placeholder='Message AI chatbot...',\n",
    "            #layout=Layout(width='100%')\n",
    "        )\n",
    "        self.submit_button = widgets.Button(\n",
    "            value=False,\n",
    "            disabled=False,\n",
    "            button_style='success',\n",
    "            icon='arrow-circle-right' \n",
    "        )\n",
    "        self.user_input_and_submit.children = (self.user_input, self.submit_button)\n",
    "\n",
    "        self.children = (self.chat, self.user_input_and_submit) "
   ]
  },
  {
   "cell_type": "code",
   "execution_count": null,
   "id": "1a72c24e-e38a-4039-984a-ba35048a11d5",
   "metadata": {},
   "outputs": [],
   "source": [
    "chatbot_view = ChatBotView()\n",
    "chatbot_view"
   ]
  },
  {
   "cell_type": "code",
   "execution_count": null,
   "id": "bbdc999b-878e-4a25-90c0-9ec3740eb609",
   "metadata": {},
   "outputs": [],
   "source": [
    "class ChatBot(ChatBotView):\n",
    "\n",
    "    def __init__(self, model):\n",
    "        # If you forget to call the superconstructor on an extended widget\n",
    "        # you will get an AttributeError: object has no attribute '_model_id'\n",
    "        super().__init__()\n",
    "        self.submit_button.on_click(self.on_click)\n",
    "        self.model =model\n",
    "\n",
    "    def on_click(self, change):\n",
    "        self.chat.value = self.chat.value + \"USER: \" + self.user_input.value + '\\n\\n'\n",
    "        self.user_input.value = ''\n",
    "        ret = self.model.prompt_course_files(self.user_input.value)\n",
    "        self.chat.value = self.chat.value +  \"CHATBOT: \"  + ret + '\\n\\n'"
   ]
  },
  {
   "cell_type": "code",
   "execution_count": null,
   "id": "b7f53d71-bebb-43d8-aafe-66396cf2bb66",
   "metadata": {},
   "outputs": [],
   "source": [
    "chatbot = ChatBot(chatbot_model)\n",
    "chatbot"
   ]
  },
  {
   "cell_type": "code",
   "execution_count": null,
   "id": "f3796974-098d-417a-ad2f-f5cc9a95bbcd",
   "metadata": {},
   "outputs": [],
   "source": [
    "file_model = FileModel()\n",
    "file_model.load_pdf_to_db(\"course_files/STP 420 spring 2024 course syllabus.pdf\") #file as input"
   ]
  },
  {
   "cell_type": "code",
   "execution_count": null,
   "id": "ac4fdf23-fb71-411a-bff7-0fd3504d230c",
   "metadata": {},
   "outputs": [],
   "source": [
    "#|hide\n",
    "import nbdev; nbdev.nbdev_export()"
   ]
  },
  {
   "cell_type": "code",
   "execution_count": null,
   "id": "61eb7eed-5429-43d4-bf69-d0647fc33d5d",
   "metadata": {},
   "outputs": [],
   "source": []
  }
 ],
 "metadata": {
  "kernelspec": {
   "display_name": "python3",
   "language": "python",
   "name": "python3"
  }
 },
 "nbformat": 4,
 "nbformat_minor": 5
}
