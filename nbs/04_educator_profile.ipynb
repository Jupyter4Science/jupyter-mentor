{
 "cells": [
  {
   "cell_type": "code",
   "execution_count": null,
   "id": "6483c09b-29df-47ad-8693-160801bd2382",
   "metadata": {},
   "outputs": [],
   "source": [
    "#|default_exp educator_profile"
   ]
  },
  {
   "cell_type": "code",
   "execution_count": null,
   "id": "320f72d0-07c6-4e93-822b-e9796773b618",
   "metadata": {},
   "outputs": [],
   "source": [
    "#|export\n",
    "from ipywidgets import VBox, HBox, HTML, Text, Button, Label"
   ]
  },
  {
   "cell_type": "code",
   "execution_count": null,
   "id": "bb1baa21-526c-4f9e-abf3-1c02234ad9d4",
   "metadata": {},
   "outputs": [],
   "source": [
    "#|export\n",
    "class EducatorProfileView(VBox):\n",
    "\n",
    "    def __init__(self):\n",
    "        super().__init__()\n",
    "\n",
    "        # Username input\n",
    "        self.username_label = Label('Name:')\n",
    "        self.username_input = Text(placeholder='Enter your name')\n",
    "\n",
    "        # Password input\n",
    "        self.key_label = Label('Educator:')\n",
    "        self.key_input = Text(placeholder='Enter Your Level', password=True)\n",
    "\n",
    "        # Next button\n",
    "        self.next_button = Button(description='Next')\n",
    "\n",
    "        # Arrange labels and inputs horizontally\n",
    "        self.username_box = HBox([self.username_label, self.username_input])\n",
    "        self.key_box = HBox([self.key_label, self.key_input])\n",
    "\n",
    "        # Arrange widgets vertically\n",
    "        self.children = [\n",
    "            HTML('<h2>User Profile</h2>'),  # Heading\n",
    "            self.username_box,       # Username label and input box\n",
    "            self.key_box,       # Password label and input box\n",
    "            HBox([self.next_button], layout={'justify_content': 'flex-end'}),  # Login button aligned to the right\n",
    "        ]"
   ]
  },
  {
   "cell_type": "code",
   "execution_count": null,
   "id": "0c047b0f-9b36-4d23-9328-db910776c52e",
   "metadata": {},
   "outputs": [
    {
     "data": {
      "application/vnd.jupyter.widget-view+json": {
       "model_id": "2f1d33409b214c1cadd80ba4bca7340a",
       "version_major": 2,
       "version_minor": 0
      },
      "text/plain": [
       "EducatorProfileView(children=(HTML(value='<h2>User Profile</h2>'), HBox(children=(Label(value='Name:'), Text(v…"
      ]
     },
     "execution_count": null,
     "metadata": {},
     "output_type": "execute_result"
    }
   ],
   "source": [
    "educator_profile = EducatorProfileView()\n",
    "educator_profile"
   ]
  },
  {
   "cell_type": "code",
   "execution_count": null,
   "id": "9affc3ac-57b5-40e7-a8e4-9c53424d3c84",
   "metadata": {},
   "outputs": [],
   "source": [
    "#| hide\n",
    "import nbdev; nbdev.nbdev_export()"
   ]
  },
  {
   "cell_type": "code",
   "execution_count": null,
   "id": "47f13e62-a751-4dfb-9971-13e75917e113",
   "metadata": {},
   "outputs": [],
   "source": []
  }
 ],
 "metadata": {
  "kernelspec": {
   "display_name": "python3",
   "language": "python",
   "name": "python3"
  }
 },
 "nbformat": 4,
 "nbformat_minor": 5
}
