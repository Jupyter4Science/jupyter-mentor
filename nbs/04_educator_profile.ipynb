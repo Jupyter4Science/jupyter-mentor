{
 "cells": [
  {
   "cell_type": "code",
   "execution_count": null,
   "id": "6483c09b-29df-47ad-8693-160801bd2382",
   "metadata": {},
   "outputs": [],
   "source": [
    "#|default_exp educator_profile"
   ]
  },
  {
   "cell_type": "code",
   "execution_count": 14,
   "id": "320f72d0-07c6-4e93-822b-e9796773b618",
   "metadata": {},
   "outputs": [],
   "source": [
    "#|export\n",
    "from ipywidgets import VBox, HBox, HTML, Text, Button, Label\n",
    "import ipyvuetify as v"
   ]
  },
  {
   "cell_type": "code",
   "execution_count": 19,
   "id": "bb1baa21-526c-4f9e-abf3-1c02234ad9d4",
   "metadata": {},
   "outputs": [],
   "source": [
    "#|export\n",
    "class EducatorProfileView(VBox):\n",
    "\n",
    "    def __init__(self):\n",
    "        super().__init__()\n",
    "\n",
    "        # Username input\n",
    "    \n",
    "        self.username_input = v.TextField(label='Name:', placeholder='Enter your first and last name')\n",
    "\n",
    "        # Eductor Level input\n",
    "        self.key_input = v.Select(\n",
    "    label='Educator Level',\n",
    "    items=['Elementary School', 'Middle School', 'High School', 'College'])\n",
    "\n",
    "         # Next button\n",
    "        self.next_button = Button(description='Next')\n",
    "\n",
    "         #Header\n",
    "        self.header = v.Container(children=[\n",
    "            v.Html(\n",
    "                tag='h1',\n",
    "                attributes={'title': 'a title'},\n",
    "                children=['Educator User Profile']\n",
    "            )\n",
    "        ])\n",
    "\n",
    "\n",
    "        # Arrange widgets vertically\n",
    "        self.children = [\n",
    "            self.header,  # Heading\n",
    "            self.username_input,       # Username label and input box\n",
    "            self.key_input,       # Password label and input box\n",
    "            HBox([self.next_button], layout={'justify_content': 'flex-end'}),  # Login button aligned to the right\n",
    "        ]"
   ]
  },
  {
   "cell_type": "code",
   "execution_count": 21,
   "id": "0c047b0f-9b36-4d23-9328-db910776c52e",
   "metadata": {},
   "outputs": [
    {
     "data": {
      "application/vnd.jupyter.widget-view+json": {
       "model_id": "78d39a1242d44a65a660cc0ba5507787",
       "version_major": 2,
       "version_minor": 0
      },
      "text/plain": [
       "EducatorProfileView(children=(Container(children=[Html(attributes={'title': 'a title'}, children=['Educator Us…"
      ]
     },
     "execution_count": 21,
     "metadata": {},
     "output_type": "execute_result"
    }
   ],
   "source": [
    "educator_profile = EducatorProfileView()\n",
    "educator_profile"
   ]
  },
  {
   "cell_type": "code",
   "execution_count": 22,
   "id": "9affc3ac-57b5-40e7-a8e4-9c53424d3c84",
   "metadata": {},
   "outputs": [],
   "source": [
    "#| hide\n",
    "import nbdev; nbdev.nbdev_export()"
   ]
  },
  {
   "cell_type": "code",
   "execution_count": null,
   "id": "47f13e62-a751-4dfb-9971-13e75917e113",
   "metadata": {},
   "outputs": [],
   "source": []
  }
 ],
 "metadata": {
  "kernelspec": {
   "display_name": "Python 3 (ipykernel)",
   "language": "python",
   "name": "python3"
  },
  "language_info": {
   "codemirror_mode": {
    "name": "ipython",
    "version": 3
   },
   "file_extension": ".py",
   "mimetype": "text/x-python",
   "name": "python",
   "nbconvert_exporter": "python",
   "pygments_lexer": "ipython3",
   "version": "3.8.19"
  }
 },
 "nbformat": 4,
 "nbformat_minor": 5
}
