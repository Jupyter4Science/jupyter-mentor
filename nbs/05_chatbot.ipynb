{
 "cells": [
  {
   "cell_type": "code",
   "execution_count": null,
   "id": "8e116d25-0170-4b10-ba20-9524e85ea507",
   "metadata": {},
   "outputs": [],
   "source": [
    "#| default_exp chatbot"
   ]
  },
  {
   "cell_type": "code",
   "execution_count": null,
   "id": "a5b60d64-4066-4398-b6b2-bcc0431a565d",
   "metadata": {},
   "outputs": [],
   "source": [
    "#| export\n",
    "import ipywidgets as widgets\n",
    "import traitlets\n",
    "from ipywidgets import Textarea, Text, Layout, HBox\n",
    "from traitlets import HasTraits\n",
    "import os\n",
    "from langchain_openai import ChatOpenAI\n",
    "from langchain_core.messages import HumanMessage, SystemMessage\n",
    "from langchain_core.prompts.chat import (\n",
    "    ChatPromptTemplate,\n",
    "    HumanMessagePromptTemplate,\n",
    "    SystemMessagePromptTemplate,\n",
    ")\n",
    "from langchain_openai import ChatOpenAI"
   ]
  },
  {
   "cell_type": "code",
   "execution_count": null,
   "id": "a57225dd-d6de-43ee-982f-c1467203dcd3",
   "metadata": {},
   "outputs": [],
   "source": [
    "# read openapi key and set model\n",
    "with open('OPENAI_API_KEY', 'r') as file:\n",
    "    openai_api_key = file.read().strip()\n",
    "\n",
    "llm = ChatOpenAI(openai_api_key = openai_api_key, model_name=\"gpt-3.5-turbo\")"
   ]
  },
  {
   "cell_type": "code",
   "execution_count": null,
   "id": "964405d5-115e-47a8-88ff-8746627ee0b1",
   "metadata": {},
   "outputs": [],
   "source": [
    "#| export\n",
    "class ChatBotModel(HasTraits):\n",
    "\n",
    "    def __init__(self, llm, bot_template=\"You are playing the role of a tutor/educator\"):\n",
    "        super().__init__()\n",
    "        self.llm = llm\n",
    "        self.human_template = \"{input_text}\"\n",
    "        self.update_bot_template(bot_template)\n",
    "\n",
    "    def update_bot_template(self, bot_template):\n",
    "        self.bot_template = bot_template\n",
    "        self.bot_message_prompt = SystemMessagePromptTemplate.from_template(self.bot_template)\n",
    "        self.human_message_prompt = HumanMessagePromptTemplate.from_template(self.human_template)\n",
    "        self.chat_prompt = ChatPromptTemplate.from_messages([self.bot_message_prompt, self.human_message_prompt])\n",
    "        \n",
    "    def prompt(self, input_text):\n",
    "        #prompt_val = prompt_template.invoke({\"adjective\": \"funny\", \"content\": \"chickens\"})\n",
    "        ret = self.llm.invoke(self.chat_prompt.format_prompt(input_text=input_text))\n",
    "        return ret.content"
   ]
  },
  {
   "cell_type": "code",
   "execution_count": null,
   "id": "1d24447e-7e51-4b99-a1c3-d35e59b7a998",
   "metadata": {},
   "outputs": [],
   "source": [
    "chatbot_model = ChatBotModel(llm)\n",
    "chatbot_model.prompt('hi')"
   ]
  },
  {
   "cell_type": "code",
   "execution_count": null,
   "id": "190256e8-d786-4f6e-963e-7cd4a91a9d82",
   "metadata": {},
   "outputs": [],
   "source": [
    "#| export\n",
    "\n",
    "class ChatBotView(widgets.VBox):\n",
    "    \n",
    "    def __init__(self):\n",
    "        # If you forget to call the superconstructor on an extended widget\n",
    "        # you will get an AttributeError: object has no attribute '_model_id'\n",
    "        super().__init__()\n",
    "\n",
    "        self.chat = Textarea(\n",
    "            disabled = True,\n",
    "            layout=Layout(width='90%', height='400px')\n",
    "        )\n",
    "        self.user_input_and_submit = HBox()\n",
    "        self.user_input = widgets.Text(\n",
    "            placeholder='Message AI chatbot...',\n",
    "            #layout=Layout(width='100%')\n",
    "        )\n",
    "        self.submit_button = widgets.Button(\n",
    "            value=False,\n",
    "            disabled=False,\n",
    "            button_style='success',\n",
    "            icon='arrow-circle-right' \n",
    "        )\n",
    "        self.user_input_and_submit.children = (self.user_input, self.submit_button)\n",
    "\n",
    "        self.children = (self.chat, self.user_input_and_submit) "
   ]
  },
  {
   "cell_type": "code",
   "execution_count": null,
   "id": "d8f6730f-d2ab-4d2f-b70a-77a4a4ca3e0b",
   "metadata": {},
   "outputs": [],
   "source": [
    "chatbot_view = ChatBotView()\n",
    "chatbot_view"
   ]
  },
  {
   "cell_type": "code",
   "execution_count": null,
   "id": "c637bb15-d20d-4440-936e-8956ac712494",
   "metadata": {},
   "outputs": [],
   "source": [
    "#| export\n",
    "class ChatBot(ChatBotView):\n",
    "\n",
    "    def __init__(self, model):\n",
    "        # If you forget to call the superconstructor on an extended widget\n",
    "        # you will get an AttributeError: object has no attribute '_model_id'\n",
    "        super().__init__()\n",
    "        self.submit_button.on_click(self.on_click)\n",
    "        self.model =model\n",
    "\n",
    "    def on_click(self, change):\n",
    "        self.chat.value = self.chat.value + \"USER: \" + self.user_input.value + '\\n\\n'\n",
    "        self.user_input.value = ''\n",
    "        ret = self.model.prompt(self.user_input.value)\n",
    "        self.chat.value = self.chat.value +  \"CHATBOT: \"  + ret + '\\n\\n'"
   ]
  },
  {
   "cell_type": "code",
   "execution_count": null,
   "id": "78f6b62f-0c95-4534-b53d-de957d72284d",
   "metadata": {},
   "outputs": [],
   "source": [
    "chatbot = ChatBot(chatbot_model)\n",
    "chatbot"
   ]
  },
  {
   "cell_type": "code",
   "execution_count": null,
   "id": "7e878d5d-8754-4210-b26f-edbc4d592987",
   "metadata": {},
   "outputs": [],
   "source": [
    "#| export\n",
    "class StudentChatBot(widgets.VBox):\n",
    "\n",
    "    #user = traitlets.CUnicode()\n",
    "    #response = traitlets.CUnicode()\n",
    "    #step_by_step = traitlets.Bool()\n",
    "    #metaphor = traitlets.Bool()\n",
    "    #hints = traitlets.Bool()\n",
    "    #guided_questions = traitlets.Bool() \n",
    "    \n",
    "    def __init__(self, chatbot_model):\n",
    "        # If you forget to call the superconstructor on an extended widget\n",
    "        # you will get an AttributeError: object has no attribute '_model_id'\n",
    "        super().__init__()\n",
    "\n",
    "        self.chat_bot = ChatBot(chatbot_model)\n",
    "\n",
    "        self.suggestion_buttons = HBox()\n",
    "        self.step_by_step = widgets.Button(\n",
    "            description='Step-by-Step',\n",
    "            button_style='info',\n",
    "            tooltip='Description',\n",
    "        )\n",
    "        self.metaphor = widgets.Button(\n",
    "            description='Metaphor',\n",
    "            button_style='info',\n",
    "            tooltip='Description',\n",
    "        )\n",
    "        self.hints = widgets.Button(\n",
    "            description='Hints',\n",
    "            button_style='info',\n",
    "            tooltip='Description',\n",
    "        )\n",
    "        self.guided_questions = widgets.Button(\n",
    "            description='AI Guided Questions',\n",
    "            button_style='info',\n",
    "            tooltip='Description', \n",
    "        )\n",
    "        self.suggestion_buttons.children = (self.step_by_step, self.metaphor, self.hints, self.guided_questions)\n",
    "        self.children = (self.chat_bot, self.suggestion_buttons)"
   ]
  },
  {
   "cell_type": "code",
   "execution_count": null,
   "id": "b4e598d6-0f71-423e-afa6-723d52a68926",
   "metadata": {},
   "outputs": [],
   "source": [
    "student_chatbot = StudentChatBot(chatbot_model)\n",
    "student_chatbot"
   ]
  },
  {
   "cell_type": "code",
   "execution_count": null,
   "id": "1ded08d8-6981-47f8-86ab-f65c3b4700bf",
   "metadata": {},
   "outputs": [],
   "source": [
    "#| export\n",
    "class EducatorChatBot(widgets.VBox):\n",
    "\n",
    "    #user = traitlets.CUnicode()\n",
    "    #response = traitlets.CUnicode()\n",
    "    #step_by_step = traitlets.Bool()\n",
    "    #metaphor = traitlets.Bool()\n",
    "    #hints = traitlets.Bool()\n",
    "    #guided_questions = traitlets.Bool()  \n",
    "    \n",
    "    def __init__(self, chatbot_model):\n",
    "        # If you forget to call the superconstructor on an extended widget\n",
    "        # you will get an AttributeError: object has no attribute '_model_id'\n",
    "        super().__init__()\n",
    "\n",
    "        self.chat_bot = ChatBot(chatbot_model)\n",
    "\n",
    "        self.suggestion_buttons = HBox()\n",
    "        self.exam_questions = widgets.Button(\n",
    "            description='Exam Questions',\n",
    "            button_style='info',\n",
    "            tooltip='Description',\n",
    "        )\n",
    "        self.lesson_plan = widgets.Button(\n",
    "            description='Lesson Plan',\n",
    "            button_style='info',\n",
    "            tooltip='Description',\n",
    "        )\n",
    "        self.suggestion_buttons.children = (self.exam_questions, self.lesson_plan )\n",
    "        self.children = (self.chat_bot, self.suggestion_buttons)"
   ]
  },
  {
   "cell_type": "code",
   "execution_count": null,
   "id": "363161e3-ad28-4495-a9a7-0529f084c41e",
   "metadata": {},
   "outputs": [],
   "source": [
    "educator_chatbot = EducatorChatBot(chatbot_model)\n",
    "educator_chatbot"
   ]
  },
  {
   "cell_type": "code",
   "execution_count": null,
   "id": "acf72e11-5e48-40cf-a1fc-89f2f201aaac",
   "metadata": {},
   "outputs": [],
   "source": [
    "#| hide\n",
    "import nbdev; nbdev.nbdev_export()"
   ]
  },
  {
   "cell_type": "code",
   "execution_count": null,
   "id": "662f28f2-7c29-432b-be4e-80575793ec66",
   "metadata": {},
   "outputs": [],
   "source": []
  }
 ],
 "metadata": {
  "kernelspec": {
   "display_name": "python3",
   "language": "python",
   "name": "python3"
  }
 },
 "nbformat": 4,
 "nbformat_minor": 5
}
