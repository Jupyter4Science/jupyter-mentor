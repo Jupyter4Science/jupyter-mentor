{
 "cells": [
  {
   "cell_type": "code",
   "execution_count": null,
   "id": "8e116d25-0170-4b10-ba20-9524e85ea507",
   "metadata": {},
   "outputs": [],
   "source": [
    "#| default_exp madlib"
   ]
  },
  {
   "cell_type": "code",
   "execution_count": null,
   "id": "a5b60d64-4066-4398-b6b2-bcc0431a565d",
   "metadata": {},
   "outputs": [],
   "source": [
    "#| export\n",
    "import ipywidgets as widgets\n",
    "import traitlets\n",
    "from ipywidgets import Textarea, Text, Layout, HBox, Stack, Layout\n",
    "from functools import partial\n",
    "from traitlets import HasTraits\n",
    "import os\n",
    "from jupyter_mentor.llm import LLM\n",
    "from langchain_openai import ChatOpenAI\n",
    "from langchain_core.messages import HumanMessage, SystemMessage\n",
    "from langchain_core.prompts.chat import (\n",
    "    ChatPromptTemplate,\n",
    "    HumanMessagePromptTemplate,\n",
    "    SystemMessagePromptTemplate,\n",
    ")"
   ]
  },
  {
   "cell_type": "code",
   "execution_count": null,
   "id": "57766c4c-4b75-414f-a247-7421b4938c70",
   "metadata": {},
   "outputs": [],
   "source": [
    "madlibs_list = [\n",
    "    { 'name': 'Open Prompt',\n",
    "     'template': '{input_text}',\n",
    "        'variables': ['input_text'],\n",
    "        'descriptions': [''],\n",
    "        'placeholders': ['Message AI chatbot...']\n",
    "    }, {'name': 'Metaphor',\n",
    "        'template': \"I'm having trouble understanding {concept}. Please explain it as a metaphor\",\n",
    "        'variables': ['concept'],\n",
    "        'descriptions': [\"I'm having trouble understanding\"],\n",
    "        'placeholders': ['']\n",
    "}]"
   ]
  },
  {
   "cell_type": "code",
   "execution_count": null,
   "id": "7c4c79e2-5b1b-47f1-ad1a-d72108cadf52",
   "metadata": {},
   "outputs": [],
   "source": [
    "#| export\n",
    "class MadLibModel(HasTraits):\n",
    "\n",
    "    bot_identity = traitlets.Unicode()\n",
    "    human_identity = traitlets.Unicode()\n",
    "    bot_template = traitlets.Unicode()\n",
    "\n",
    "    def __init__(self, name, descriptions, placeholders, variables, template, **kwargs):      \n",
    "        self.name = name\n",
    "        self.descriptions = descriptions\n",
    "        self.placeholders = placeholders\n",
    "        # two ways to save variables... \n",
    "        self.variables = variables\n",
    "        self.values = ['' for i in range(len(variables))]\n",
    "        #for key, value in variables.items(): # ... as attributes\n",
    "        #    setattr(self, key, value)\n",
    "        #self.variables = variables # ...or as a dictionary, ex. { 'input_text': 'value' }  \n",
    "        self.human_template = template # string: '{input_text}'\n",
    "\n",
    "        #self.observe(self, 'bot_identity', 'change')\n",
    "        self.observe(self.update_bot_identity, ('bot_identity'), 'change')\n",
    "        self.observe(self.update_bot_template, ('bot_template'), 'change')\n",
    "        self.observe(self.update_human_identity, 'human_identity', 'change')\n",
    "    \n",
    "    def update_bot_identity(self, change):\n",
    "        self.bot_message_prompt = SystemMessagePromptTemplate.from_template(\"\\n\\n\".join([change['new'], self.bot_template]))\n",
    "\n",
    "    def update_bot_template(self, change):\n",
    "        self.bot_message_prompt = SystemMessagePromptTemplate.from_template(\"\\n\\n\".join([self.bot_identity, change['new'],]))\n",
    "    \n",
    "    def update_human_identity(self, change):\n",
    "        self.human_message_prompt = HumanMessagePromptTemplate.from_template(\"\\n\\n\".join([change['new'], self.human_template]))"
   ]
  },
  {
   "cell_type": "code",
   "execution_count": null,
   "id": "45c03560-1820-4007-bc70-f72e36f14b6a",
   "metadata": {},
   "outputs": [],
   "source": [
    "model_dict = { 'name': 'Open Prompt',\n",
    "              'template': '{input_text}',\n",
    "              'variables': ['input_text'],\n",
    "              'descriptions': [''],\n",
    "              'placeholders': ['Message AI chatbot...']}\n",
    "madlib_model = MadLibModel(**model_dict)\n",
    "madlib_model.values"
   ]
  },
  {
   "cell_type": "code",
   "execution_count": null,
   "id": "bf60976d-bfda-431c-848c-43458b5ed143",
   "metadata": {},
   "outputs": [],
   "source": [
    "madlib_model.human_identity = 'hi'\n",
    "madlib_model.human_message_prompt"
   ]
  },
  {
   "cell_type": "code",
   "execution_count": null,
   "id": "ac50f9ff-5bc5-441a-bf4b-6a804c715ede",
   "metadata": {},
   "outputs": [],
   "source": [
    "madlib_model.values"
   ]
  },
  {
   "cell_type": "code",
   "execution_count": null,
   "id": "6d03113f-6611-44eb-84e1-5790e483c246",
   "metadata": {},
   "outputs": [],
   "source": [
    "#| export\n",
    "class MadLibView(HBox):\n",
    "\n",
    "    # we could pass in a button instead of creating a whole bunch oof them\n",
    "    def __init__(self, model, **kwargs):\n",
    "        super().__init__()\n",
    "        \n",
    "        self.model = model\n",
    "        self.variables = []\n",
    "        \n",
    "        for i in range(len(self.model.variables)):\n",
    "            text = Text(\n",
    "                description = self.model.descriptions[i],\n",
    "                placeholder = self.model.placeholders[i],\n",
    "                style={'description_width': 'initial'}\n",
    "            )\n",
    "            text.observe(partial(self.observe_value_change, i), 'value', 'change')\n",
    "            self.variables.append(text)\n",
    "        \n",
    "        self.children = self.variables\n",
    "\n",
    "        # Create a new function with arg1 preset to 10\n",
    "        #partial_function1 = partial(my_function, 10)\n",
    "\n",
    "    def observe_value_change(self, i, change):\n",
    "        self.model.values[i] = change['new']\n",
    "        "
   ]
  },
  {
   "cell_type": "code",
   "execution_count": null,
   "id": "5d96e192-a506-47e7-b3cc-bdf9f80020a1",
   "metadata": {},
   "outputs": [],
   "source": [
    "madlib = MadLibView(madlib_model)\n",
    "madlib"
   ]
  },
  {
   "cell_type": "code",
   "execution_count": null,
   "id": "aeb4f0ff-e00b-446a-9300-fd2aae67b6cf",
   "metadata": {},
   "outputs": [],
   "source": [
    "assert madlib.variables[0].value == madlib.model.values[0]"
   ]
  },
  {
   "cell_type": "code",
   "execution_count": null,
   "id": "58abe5ec-a1a1-4151-ad5a-d13ab05b4eeb",
   "metadata": {},
   "outputs": [],
   "source": [
    "madlib_model.values"
   ]
  },
  {
   "cell_type": "markdown",
   "id": "a3f39a52-4930-4604-99b4-6b3c91dcb87b",
   "metadata": {},
   "source": [
    "## Creating Many MadLibs from a Dictionary"
   ]
  },
  {
   "cell_type": "code",
   "execution_count": null,
   "id": "a7d155eb-a451-4a39-9f39-06c2b3f29d25",
   "metadata": {},
   "outputs": [],
   "source": [
    "madlibs_list = [\n",
    "    { 'name': 'Open Prompt',\n",
    "     'template': '{input_text}',\n",
    "        'variables': ['input_text'],\n",
    "        'descriptions': [''],\n",
    "        'placeholders': ['Message AI chatbot...']\n",
    "    }, {'name': 'Metaphor',\n",
    "        'template': \"I'm having trouble understanding {concept}. Please explain it as a metaphor\",\n",
    "        'variables': ['concept'],\n",
    "        'descriptions': [\"I'm having trouble understanding\"],\n",
    "        'placeholders': ['']\n",
    "}]"
   ]
  },
  {
   "cell_type": "code",
   "execution_count": null,
   "id": "cad6a69d-565d-4e08-9258-026a8d864c52",
   "metadata": {},
   "outputs": [],
   "source": [
    "madlibs = []\n",
    "for value in madlibs_list:\n",
    "    model = MadLibModel(**value)\n",
    "    madlibs.append(MadLibView(model))"
   ]
  },
  {
   "cell_type": "code",
   "execution_count": null,
   "id": "acf72e11-5e48-40cf-a1fc-89f2f201aaac",
   "metadata": {},
   "outputs": [],
   "source": [
    "#| hide\n",
    "import nbdev; nbdev.nbdev_export()"
   ]
  },
  {
   "cell_type": "code",
   "execution_count": null,
   "id": "fd280ef1-0227-458e-b51d-3a371e10e020",
   "metadata": {},
   "outputs": [],
   "source": []
  }
 ],
 "metadata": {
  "kernelspec": {
   "display_name": "python3",
   "language": "python",
   "name": "python3"
  }
 },
 "nbformat": 4,
 "nbformat_minor": 5
}
