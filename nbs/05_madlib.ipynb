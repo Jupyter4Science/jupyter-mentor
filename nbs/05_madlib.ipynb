{
 "cells": [
  {
   "cell_type": "code",
   "execution_count": null,
   "id": "8e116d25-0170-4b10-ba20-9524e85ea507",
   "metadata": {},
   "outputs": [],
   "source": [
    "#| default_exp madlib"
   ]
  },
  {
   "cell_type": "code",
   "execution_count": null,
   "id": "a5b60d64-4066-4398-b6b2-bcc0431a565d",
   "metadata": {},
   "outputs": [],
   "source": [
    "#| export\n",
    "import ipywidgets as widgets\n",
    "import traitlets\n",
    "from ipywidgets import Textarea, Text, Layout, HBox, Stack, Layout\n",
    "from traitlets import HasTraits\n",
    "import os"
   ]
  },
  {
   "cell_type": "code",
   "execution_count": null,
   "id": "7c4c79e2-5b1b-47f1-ad1a-d72108cadf52",
   "metadata": {},
   "outputs": [],
   "source": [
    "#| export\n",
    "class MadLibModel(object):\n",
    "\n",
    "    def __init__(self, description, variables, template, **kwargs):\n",
    "        \n",
    "        self.description = description\n",
    "        # two ways to save variables... \n",
    "        for key, value in variables.items(): # ... as attributes\n",
    "            setattr(self, key, value)\n",
    "        self.variables = variables # ...or as a dictionary, ex. { 'input_text': 'value' }  \n",
    "        self.template = template # string: '{input_text}'\n"
   ]
  },
  {
   "cell_type": "code",
   "execution_count": null,
   "id": "45c03560-1820-4007-bc70-f72e36f14b6a",
   "metadata": {},
   "outputs": [],
   "source": [
    "model_dict = {'description': '',\n",
    "              'variables': {\n",
    "                  'input_text': 'value'\n",
    "              }, \n",
    "              'template': '{input_text}' ,\n",
    "              'placeholder': 'Message AI chatbot...',\n",
    "             } \n",
    "madlib_model = MadLibModel(**model_dict)\n",
    "madlib_model.input_text"
   ]
  },
  {
   "cell_type": "code",
   "execution_count": null,
   "id": "ac50f9ff-5bc5-441a-bf4b-6a804c715ede",
   "metadata": {},
   "outputs": [],
   "source": [
    "madlib_model.variables"
   ]
  },
  {
   "cell_type": "code",
   "execution_count": null,
   "id": "6d03113f-6611-44eb-84e1-5790e483c246",
   "metadata": {},
   "outputs": [],
   "source": [
    "#| export\n",
    "class MadLibView(HBox):\n",
    "    \n",
    "    def __init__(self, model, **kwargs):\n",
    "        super().__init__()\n",
    "        \n",
    "        self.model = model\n",
    "        self.variables = {}\n",
    "        for i, (key, value) in enumerate(self.model.variables.items()):\n",
    "            text = Text(description=self.model.description, style={'description_width': 'initial'})\n",
    "            self.variables[key] = text\n",
    "\n",
    "        self.submit_button = widgets.Button(\n",
    "            value=False,\n",
    "            disabled=False,\n",
    "            button_style='success',\n",
    "            icon='arrow-circle-right' \n",
    "        )\n",
    "        self.children = list(self.variables.values()) "
   ]
  },
  {
   "cell_type": "code",
   "execution_count": null,
   "id": "5d96e192-a506-47e7-b3cc-bdf9f80020a1",
   "metadata": {},
   "outputs": [],
   "source": [
    "madlib = MadLibView(madlib_model)\n",
    "madlib"
   ]
  },
  {
   "cell_type": "code",
   "execution_count": null,
   "id": "aeb4f0ff-e00b-446a-9300-fd2aae67b6cf",
   "metadata": {},
   "outputs": [],
   "source": [
    "madlib.variables['input_text'].value = 'hiii'"
   ]
  },
  {
   "cell_type": "code",
   "execution_count": null,
   "id": "f5aae3a7-d025-4145-a6d0-54ccc66a4d2a",
   "metadata": {},
   "outputs": [],
   "source": [
    "madlib_model.variables"
   ]
  },
  {
   "cell_type": "markdown",
   "id": "a3f39a52-4930-4604-99b4-6b3c91dcb87b",
   "metadata": {},
   "source": [
    "## Creating Many MadLibs from a Dictionary"
   ]
  },
  {
   "cell_type": "code",
   "execution_count": null,
   "id": "d33cfe2b-b1c6-4848-a258-c55e75233a5d",
   "metadata": {},
   "outputs": [],
   "source": [
    "madlibs_list = [\n",
    "    {'name': 'Open Prompt',\n",
    "     'description': '',\n",
    "     'variables': {\n",
    "         'input_text': 'value'\n",
    "        }, \n",
    "        'template': '{input_text}' ,\n",
    "        'placeholder': 'Message AI chatbot...',\n",
    "    },\n",
    "    {\n",
    "        'name': 'Metaphor',\n",
    "        'variables': {\n",
    "            'concept': 'value'\n",
    "        }, \n",
    "        'template': \"I'm having trouble understanding {concept}. Explain it as a metaphor\",\n",
    "        'description': \"I'm having trouble understanding...\", \n",
    "        'placeholder': 'why the sky is blue'\n",
    "    }\n",
    "]\n",
    "\n",
    "madlibs = []\n",
    "for value in madlibs_list:\n",
    "    model = MadLibModel(**value)\n",
    "    madlibs.append(MadLibView(model))"
   ]
  },
  {
   "cell_type": "code",
   "execution_count": null,
   "id": "fded0334-8d75-4a5d-bf2f-09e3de470f7b",
   "metadata": {},
   "outputs": [],
   "source": [
    "madlibs[1]"
   ]
  },
  {
   "cell_type": "code",
   "execution_count": null,
   "id": "ab0e992d-ab59-433f-af53-6acd37124b7e",
   "metadata": {},
   "outputs": [],
   "source": [
    "class MadLibsView(Stack):\n",
    "\n",
    "    def __init__(self):\n",
    "        super().__init__()"
   ]
  },
  {
   "cell_type": "code",
   "execution_count": null,
   "id": "aec28861-3f40-4a25-9830-53f92f0efa19",
   "metadata": {},
   "outputs": [],
   "source": [
    "madlibs_view = MadLibsView()"
   ]
  },
  {
   "cell_type": "code",
   "execution_count": null,
   "id": "dc2486a5-0267-4ac7-831f-62544b771d64",
   "metadata": {},
   "outputs": [],
   "source": [
    "for value in madlibs_list:\n",
    "    model = MadLibModel(**value)\n",
    "    madlibs.append(MadLib(model))\n",
    "    madlibs_view.children += (MadLib(model), )"
   ]
  },
  {
   "cell_type": "code",
   "execution_count": null,
   "id": "22acb08a-9c77-48d7-b79e-df1fcff1614d",
   "metadata": {},
   "outputs": [],
   "source": [
    "madlibs_view"
   ]
  },
  {
   "cell_type": "code",
   "execution_count": null,
   "id": "3680f384-96a8-46a7-b6b8-afd04d709a31",
   "metadata": {},
   "outputs": [],
   "source": [
    "madlibs_view?"
   ]
  },
  {
   "cell_type": "code",
   "execution_count": null,
   "id": "acf72e11-5e48-40cf-a1fc-89f2f201aaac",
   "metadata": {},
   "outputs": [],
   "source": [
    "#| hide\n",
    "import nbdev; nbdev.nbdev_export()"
   ]
  },
  {
   "cell_type": "code",
   "execution_count": null,
   "id": "fd280ef1-0227-458e-b51d-3a371e10e020",
   "metadata": {},
   "outputs": [],
   "source": []
  }
 ],
 "metadata": {
  "kernelspec": {
   "display_name": "python3",
   "language": "python",
   "name": "python3"
  }
 },
 "nbformat": 4,
 "nbformat_minor": 5
}
