{
 "cells": [
  {
   "cell_type": "code",
   "execution_count": null,
   "id": "8e116d25-0170-4b10-ba20-9524e85ea507",
   "metadata": {},
   "outputs": [],
   "source": [
    "#| default_exp madlib"
   ]
  },
  {
   "cell_type": "code",
   "execution_count": null,
   "id": "a5b60d64-4066-4398-b6b2-bcc0431a565d",
   "metadata": {},
   "outputs": [],
   "source": [
    "#| export\n",
    "import ipywidgets as widgets\n",
    "import traitlets\n",
    "from ipywidgets import Textarea, Text, Layout, HBox, Stack, Layout\n",
    "from traitlets import HasTraits\n",
    "import os"
   ]
  },
  {
   "cell_type": "code",
   "execution_count": null,
   "id": "7c4c79e2-5b1b-47f1-ad1a-d72108cadf52",
   "metadata": {},
   "outputs": [],
   "source": [
    "#| export\n",
    "class MadLibModel(object):\n",
    "    def __init__(self, description, variables, template, **kwargs):\n",
    "        self.description = description\n",
    "        # two ways to save variables... \n",
    "        for key, value in variables.items(): # ... as attributes\n",
    "            setattr(self, key, value)\n",
    "        self.variables = variables # ...or as a dictionary, ex. { 'input_text': 'value' }  \n",
    "        self.template = template # string: '{input_text}'"
   ]
  },
  {
   "cell_type": "code",
   "execution_count": null,
   "id": "45c03560-1820-4007-bc70-f72e36f14b6a",
   "metadata": {},
   "outputs": [],
   "source": [
    "model_dict = {'description': '',\n",
    "              'variables': {\n",
    "                  'input_text': 'value'\n",
    "              }, \n",
    "              'template': '{input_text}' ,\n",
    "              'placeholder': 'Message AI chatbot...',\n",
    "             } \n",
    "madlib_model = MadLibModel(**model_dict)\n",
    "madlib_model.input_text"
   ]
  },
  {
   "cell_type": "code",
   "execution_count": null,
   "id": "ac50f9ff-5bc5-441a-bf4b-6a804c715ede",
   "metadata": {},
   "outputs": [],
   "source": [
    "madlib_model.variables"
   ]
  },
  {
   "cell_type": "code",
   "execution_count": null,
   "id": "6d03113f-6611-44eb-84e1-5790e483c246",
   "metadata": {},
   "outputs": [],
   "source": [
    "#| export\n",
    "class MadLib(HBox):\n",
    "    \n",
    "    def __init__(self, model, **kwargs):\n",
    "        super().__init__()\n",
    "\n",
    "        self.model = model\n",
    "        self.variables = {}\n",
    "        for i, (key, value) in enumerate(self.model.variables.items()):\n",
    "            text = Text(description=self.model.description, style={'description_width': 'initial'})\n",
    "            self.variables[key] = text\n",
    "\n",
    "        self.submit_button = widgets.Button(\n",
    "            value=False,\n",
    "            disabled=False,\n",
    "            button_style='success',\n",
    "            icon='arrow-circle-right' \n",
    "        )\n",
    "        self.submit_button.on_click(self.observe_submit_button)\n",
    "        self.children = list(self.variables.values()) + [self.submit_button]\n",
    "\n",
    "    def observe_submit_button(self, change):\n",
    "        for key, value in self.variables.items():\n",
    "            setattr(self.model, key, value.value)"
   ]
  },
  {
   "cell_type": "code",
   "execution_count": null,
   "id": "5d96e192-a506-47e7-b3cc-bdf9f80020a1",
   "metadata": {},
   "outputs": [],
   "source": [
    "madlib = MadLib(madlib_model)\n",
    "madlib"
   ]
  },
  {
   "cell_type": "code",
   "execution_count": null,
   "id": "aeb4f0ff-e00b-446a-9300-fd2aae67b6cf",
   "metadata": {},
   "outputs": [],
   "source": [
    "madlib.variables['input_text'].value = 'hiii'\n",
    "madlib.observe_submit_button(None)\n",
    "print(madlib.model.input_text)"
   ]
  },
  {
   "cell_type": "markdown",
   "id": "a3f39a52-4930-4604-99b4-6b3c91dcb87b",
   "metadata": {},
   "source": [
    "## Creating Many MadLibs from a Dictionary"
   ]
  },
  {
   "cell_type": "code",
   "execution_count": null,
   "id": "d33cfe2b-b1c6-4848-a258-c55e75233a5d",
   "metadata": {},
   "outputs": [],
   "source": [
    "madlibs_dict = {\n",
    "    'Open Prompt': {\n",
    "        'description': '',\n",
    "        'variables': {\n",
    "            'input_text': 'value'\n",
    "        }, \n",
    "        'template': '{input_text}' ,\n",
    "        'placeholder': 'Message AI chatbot...',\n",
    "    }, \n",
    "    'Metaphor': {\n",
    "        'variables': {\n",
    "            'concept': 'value'\n",
    "        }, \n",
    "        'template': \"I'm having trouble understanding {concept}. Explain it as a metaphor\",\n",
    "        'description': \"I'm having trouble understanding...\", \n",
    "        'placeholder': 'why the sky is blue'\n",
    "    }\n",
    "}\n",
    "\n",
    "madlibs = {}\n",
    "for key, value in madlibs_dict.items():\n",
    "    model = MadLibModel(**value)\n",
    "    madlibs[key] = MadLib(model)"
   ]
  },
  {
   "cell_type": "code",
   "execution_count": null,
   "id": "fded0334-8d75-4a5d-bf2f-09e3de470f7b",
   "metadata": {},
   "outputs": [],
   "source": [
    "madlibs['Metaphor']"
   ]
  },
  {
   "cell_type": "code",
   "execution_count": null,
   "id": "ab0e992d-ab59-433f-af53-6acd37124b7e",
   "metadata": {},
   "outputs": [],
   "source": [
    "class MadLibsView(Stack):\n",
    "\n",
    "    def __init__(self):\n",
    "        super().__init__()\n"
   ]
  },
  {
   "cell_type": "code",
   "execution_count": null,
   "id": "acf72e11-5e48-40cf-a1fc-89f2f201aaac",
   "metadata": {},
   "outputs": [],
   "source": [
    "#| hide\n",
    "import nbdev; nbdev.nbdev_export()"
   ]
  },
  {
   "cell_type": "code",
   "execution_count": null,
   "id": "662f28f2-7c29-432b-be4e-80575793ec66",
   "metadata": {},
   "outputs": [],
   "source": []
  }
 ],
 "metadata": {
  "kernelspec": {
   "display_name": "python3",
   "language": "python",
   "name": "python3"
  }
 },
 "nbformat": 4,
 "nbformat_minor": 5
}
