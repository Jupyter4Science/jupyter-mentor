{
 "cells": [
  {
   "cell_type": "code",
   "execution_count": null,
   "id": "8e116d25-0170-4b10-ba20-9524e85ea507",
   "metadata": {},
   "outputs": [],
   "source": [
    "#| default_exp chatbot_tab"
   ]
  },
  {
   "cell_type": "code",
   "execution_count": null,
   "id": "a5b60d64-4066-4398-b6b2-bcc0431a565d",
   "metadata": {},
   "outputs": [],
   "source": [
    "#| export\n",
    "import ipywidgets as widgets\n",
    "import traitlets\n",
    "from ipywidgets import Textarea, Text, Layout, HBox, Stack, Layout\n",
    "from traitlets import HasTraits\n",
    "import os\n",
    "from langchain_openai import ChatOpenAI\n",
    "from langchain_core.messages import HumanMessage, SystemMessage\n",
    "from langchain_core.prompts.chat import (\n",
    "    ChatPromptTemplate,\n",
    "    HumanMessagePromptTemplate,\n",
    "    SystemMessagePromptTemplate,\n",
    ")\n",
    "from langchain_openai import ChatOpenAI\n",
    "#from jupyter_mentor.chatbot import ChatBot, ChatBotModel, ChatBotView\n",
    "from jupyter_mentor.madlib import MadLibModel, MadLibView\n",
    "from jupyter_mentor.llm import FileModel"
   ]
  },
  {
   "cell_type": "code",
   "execution_count": null,
   "id": "d16df572-7edc-401c-beb4-4d5f53b28bae",
   "metadata": {},
   "outputs": [],
   "source": [
    "#|export\n",
    "class ChatBotModel(FileModel):\n",
    "\n",
    "    selected_index = traitlets.Int()\n",
    "    bot_identity = traitlets.Unicode()\n",
    "    human_identity = traitlets.Unicode()\n",
    "    bot_template = traitlets.Unicode()\n",
    "\n",
    "    def __init__(self, madlibs_list):\n",
    "        super().__init__()\n",
    "\n",
    "        self.names = []\n",
    "        self.madlib_models = []\n",
    "        for value in madlibs_list:\n",
    "            model = MadLibModel(**value)\n",
    "            self.names.append(model.name)\n",
    "            traitlets.link((self, 'bot_identity'), (model, 'bot_identity'))\n",
    "            traitlets.link((self, 'human_identity'), (model, 'human_identity'))\n",
    "            traitlets.link((self, 'bot_template'), (model, 'bot_template'))\n",
    "            self.madlib_models.append(model)\n",
    "\n",
    "        self.human_template = \"{input_text}\"\n",
    "        self.human_identity = \"I am a student\"\n",
    "        self.bot_template = \"\"\n",
    "        self.bot_identity = \"Your are a tutor.\"\n",
    "        \n",
    "    def prompt(self):\n",
    "        chat_prompt = ChatPromptTemplate.from_messages(\n",
    "            [self.madlib_models[self.selected_index].bot_message_prompt, self.madlib_models[self.selected_index].human_message_prompt]\n",
    "        )\n",
    "        keys = self.madlib_models[self.selected_index].variables\n",
    "        values = self.madlib_models[self.selected_index].values\n",
    "        kwargs = {key:value for key, value in zip(keys,values)}\n",
    "        prompt = chat_prompt.format_prompt( **kwargs )\n",
    "        bot = self.llm.invoke(prompt).content\n",
    "        interm= [desc + ' ' + val for desc, val in zip(self.madlib_models[self.selected_index].descriptions, self.madlib_models[self.selected_index].values)]\n",
    "        user = \"\\n\".join(interm)\n",
    "        return (user, bot)\n",
    "        \n",
    "    def prompt_with_kwargs(self, kwargs):\n",
    "        ret = self.llm.invoke(self.chat_prompt.format_prompt(**kwargs))\n",
    "        return ret.content"
   ]
  },
  {
   "cell_type": "code",
   "execution_count": null,
   "id": "cdf37b3e-7dc8-4af6-abc0-1620c5447cd5",
   "metadata": {},
   "outputs": [],
   "source": [
    "madlibs_list = [\n",
    "    { 'name': 'Open Prompt',\n",
    "     'template': '{input_text}',\n",
    "        'variables': ['input_text'],\n",
    "        'descriptions': [''],\n",
    "        'placeholders': ['Message AI chatbot...']\n",
    "    }, {'name': 'Metaphor',\n",
    "        'template': \"I'm having trouble understanding {concept}. Please explain it as a metaphor\",\n",
    "        'variables': ['concept'],\n",
    "        'descriptions': [\"I'm having trouble understanding\"],\n",
    "        'placeholders': ['']\n",
    "}]"
   ]
  },
  {
   "cell_type": "code",
   "execution_count": null,
   "id": "246e149a-2461-4b40-8efb-0a476be12b80",
   "metadata": {},
   "outputs": [],
   "source": [
    "chatbot_model = ChatBotModel(madlibs_list)"
   ]
  },
  {
   "cell_type": "code",
   "execution_count": null,
   "id": "2566ec4c-0a4d-466c-ac53-e71529d430e9",
   "metadata": {},
   "outputs": [],
   "source": [
    "chatbot_model.selected_index = 1"
   ]
  },
  {
   "cell_type": "code",
   "execution_count": null,
   "id": "6169e5bc-f4d1-4b9f-be8d-0c12a9b73269",
   "metadata": {},
   "outputs": [],
   "source": [
    "chatbot_model.madlib_models[1].values = ['evolution']"
   ]
  },
  {
   "cell_type": "code",
   "execution_count": null,
   "id": "3d176ad3-1c26-4824-9d6b-3d294b100f85",
   "metadata": {},
   "outputs": [
    {
     "name": "stdout",
     "output_type": "stream",
     "text": [
      "[\"I'm having trouble understanding\"]\n",
      "['evolution']\n",
      "[\"I'm having trouble understanding evolution\"]\n"
     ]
    },
    {
     "data": {
      "text/plain": [
       "(\"I'm having trouble understanding evolution\",\n",
       " \"Sure! Imagine a tree that starts as a single seed. Over time, this tree grows branches and leaves, each one slightly different from the others due to variations in sunlight, water, and nutrients. Some branches grow stronger and more successful, while others may wither and die.\\n\\nIn the same way, evolution is like a tree of life, where all living organisms are connected through a process of gradual change and adaptation. Just as the tree's branches represent the diversity of life, different species evolve and change over time, with some adaptations proving to be more beneficial for survival and reproduction.\\n\\nThese beneficial traits are passed down to future generations, leading to the development of new species that are better suited to their environment. This process of natural selection is like the tree pruning its branches, allowing the strongest and most successful ones to thrive and grow.\\n\\nIn essence, evolution is the ongoing journey of life, where each species is like a unique branch on the tree of life, constantly changing and adapting to the ever-changing environment.\")"
      ]
     },
     "execution_count": null,
     "metadata": {},
     "output_type": "execute_result"
    }
   ],
   "source": [
    "chatbot_model.prompt()"
   ]
  },
  {
   "cell_type": "code",
   "execution_count": null,
   "id": "142e2664-b0b2-4a10-8901-67ec87a562c1",
   "metadata": {},
   "outputs": [
    {
     "data": {
      "text/plain": [
       "['input_text']"
      ]
     },
     "execution_count": null,
     "metadata": {},
     "output_type": "execute_result"
    }
   ],
   "source": [
    "chatbot_model.madlib_models[0].variables"
   ]
  },
  {
   "cell_type": "code",
   "execution_count": null,
   "id": "9a4bfc4a-16e7-4c66-9963-b0174d832326",
   "metadata": {},
   "outputs": [],
   "source": [
    "#|export\n",
    "class ChatBotView(widgets.VBox):\n",
    "    \"\"\" This view also exists in 04_chatbot, but wea\n",
    "    are overwriting it here\n",
    "    \"\"\"\n",
    "    \n",
    "    def __init__(self):\n",
    "        # If you forget to call the superconstructor on an extended widget\n",
    "        # you will get an AttributeError: object has no attribute '_model_id'\n",
    "        super().__init__()\n",
    "\n",
    "        self.chat = Textarea(\n",
    "            disabled = True,\n",
    "            layout=Layout(width='90%', height='400px')\n",
    "        )\n",
    "        self.radio_buttons = widgets.RadioButtons()\n",
    "        self.hbox = widgets.HBox()\n",
    "        self.default = widgets.Text(\n",
    "            placeholder='Message AI chatbot...',\n",
    "            #layout=Layout(width='100%')\n",
    "        )\n",
    "        self.stack = widgets.Stack()        \n",
    "        self.submit_button = widgets.Button(\n",
    "            value=False,\n",
    "            disabled=False,\n",
    "            button_style='success',\n",
    "            icon='arrow-circle-right' \n",
    "        )\n",
    "        self.hbox.children = (self.stack, self.submit_button)\n",
    "        self.children = (self.chat, self.radio_buttons, self.hbox ) "
   ]
  },
  {
   "cell_type": "code",
   "execution_count": null,
   "id": "61722b3b-4731-4a32-98bc-ea94c5237807",
   "metadata": {},
   "outputs": [
    {
     "data": {
      "application/vnd.jupyter.widget-view+json": {
       "model_id": "eda9be086a2a426783a5c6697600724c",
       "version_major": 2,
       "version_minor": 0
      },
      "text/plain": [
       "ChatBotView(children=(Textarea(value='', disabled=True, layout=Layout(height='400px', width='90%')), RadioButt…"
      ]
     },
     "execution_count": null,
     "metadata": {},
     "output_type": "execute_result"
    }
   ],
   "source": [
    "chatbotview = ChatBotView()\n",
    "chatbotview"
   ]
  },
  {
   "cell_type": "code",
   "execution_count": null,
   "id": "2c4f64d8-ad50-455b-b308-68cc8e9cae07",
   "metadata": {},
   "outputs": [],
   "source": [
    "#|export\n",
    "class ChatBot(ChatBotView):\n",
    "    \"\"\" This view also exists in 04_chatbot, but wea\n",
    "    are overwriting it here\n",
    "    \"\"\"\n",
    "    selected_index = traitlets.Int()\n",
    "    \n",
    "    def __init__(self, model):\n",
    "        # If you forget to call the superconstructor on an extended widget\n",
    "        # you will get an AttributeError: object has no attribute '_model_id'\n",
    "        super().__init__()\n",
    "        self.model = model\n",
    "       \n",
    "        self.radio_buttons.options = [(name, i) for i, name in enumerate(self.model.names)]\n",
    "        traitlets.link((self, 'selected_index'), (self.radio_buttons, 'value'))\n",
    "\n",
    "        madlib_views = []\n",
    "        for model in self.model.madlib_models:\n",
    "            view = MadLibView(model)\n",
    "            madlib_views.append(view)\n",
    "            self.stack.children += (view, )\n",
    "\n",
    "        traitlets.link((self, 'selected_index'), (self.stack, 'selected_index'))\n",
    "        traitlets.link((self, 'selected_index'), (self.model, 'selected_index'))\n",
    "\n",
    "        self.submit_button.on_click(self.on_click)\n",
    "\n",
    "    def on_click(self, change):\n",
    "        user, bot = self.model.prompt()\n",
    "        self.chat.value = \"USER: \" + user + '\\n\\n' + \"CHATBOT: \" + bot + '\\n\\n'\n",
    "        self.selected_index = 0\n",
    "        for child in self.stack.children[self.selected_index].children:\n",
    "            child.value = ''\n"
   ]
  },
  {
   "cell_type": "code",
   "execution_count": null,
   "id": "157aa5c9-7068-4f5c-a8f6-8c27286f8a80",
   "metadata": {},
   "outputs": [
    {
     "data": {
      "application/vnd.jupyter.widget-view+json": {
       "model_id": "724ce8f8916b4d74b057807158f8ee4f",
       "version_major": 2,
       "version_minor": 0
      },
      "text/plain": [
       "ChatBot(children=(Textarea(value='', disabled=True, layout=Layout(height='400px', width='90%')), RadioButtons(…"
      ]
     },
     "execution_count": null,
     "metadata": {},
     "output_type": "execute_result"
    }
   ],
   "source": [
    "chatbot = ChatBot(chatbot_model)\n",
    "chatbot"
   ]
  },
  {
   "cell_type": "code",
   "execution_count": null,
   "id": "eb40de44-b1f4-4654-a3d8-8626dd9e192e",
   "metadata": {},
   "outputs": [
    {
     "data": {
      "text/plain": [
       "0"
      ]
     },
     "execution_count": null,
     "metadata": {},
     "output_type": "execute_result"
    }
   ],
   "source": [
    "chatbot.model.selected_index"
   ]
  },
  {
   "cell_type": "code",
   "execution_count": null,
   "id": "acf72e11-5e48-40cf-a1fc-89f2f201aaac",
   "metadata": {},
   "outputs": [
    {
     "name": "stderr",
     "output_type": "stream",
     "text": [
      "/opt/homebrew/Caskroom/miniconda/base/envs/jupyter-mentor/lib/python3.11/site-packages/nbdev/export.py:54: UserWarning: Notebook '/Users/nabrewer/Repos/Jupyter4Science/jupyter-mentor/nbs/00_educator.ipynb' uses `#|export` without `#|default_exp` cell.\n",
      "Note nbdev2 no longer supports nbdev1 syntax. Run `nbdev_migrate` to upgrade.\n",
      "See https://nbdev.fast.ai/getting_started.html for more information.\n",
      "  warn(f\"Notebook '{nbname}' uses `#|export` without `#|default_exp` cell.\\n\"\n",
      "/opt/homebrew/Caskroom/miniconda/base/envs/jupyter-mentor/lib/python3.11/site-packages/nbdev/export.py:54: UserWarning: Notebook '/Users/nabrewer/Repos/Jupyter4Science/jupyter-mentor/nbs/00_main.ipynb' uses `#|export` without `#|default_exp` cell.\n",
      "Note nbdev2 no longer supports nbdev1 syntax. Run `nbdev_migrate` to upgrade.\n",
      "See https://nbdev.fast.ai/getting_started.html for more information.\n",
      "  warn(f\"Notebook '{nbname}' uses `#|export` without `#|default_exp` cell.\\n\"\n",
      "/opt/homebrew/Caskroom/miniconda/base/envs/jupyter-mentor/lib/python3.11/site-packages/nbdev/export.py:54: UserWarning: Notebook '/Users/nabrewer/Repos/Jupyter4Science/jupyter-mentor/nbs/00_student.ipynb' uses `#|export` without `#|default_exp` cell.\n",
      "Note nbdev2 no longer supports nbdev1 syntax. Run `nbdev_migrate` to upgrade.\n",
      "See https://nbdev.fast.ai/getting_started.html for more information.\n",
      "  warn(f\"Notebook '{nbname}' uses `#|export` without `#|default_exp` cell.\\n\"\n"
     ]
    }
   ],
   "source": [
    "#| hide\n",
    "import nbdev; nbdev.nbdev_export()"
   ]
  },
  {
   "cell_type": "code",
   "execution_count": null,
   "id": "662f28f2-7c29-432b-be4e-80575793ec66",
   "metadata": {},
   "outputs": [],
   "source": []
  }
 ],
 "metadata": {
  "kernelspec": {
   "display_name": "python3",
   "language": "python",
   "name": "python3"
  }
 },
 "nbformat": 4,
 "nbformat_minor": 5
}
