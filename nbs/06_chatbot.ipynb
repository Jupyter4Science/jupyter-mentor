{
 "cells": [
  {
   "cell_type": "code",
   "execution_count": null,
   "id": "8e116d25-0170-4b10-ba20-9524e85ea507",
   "metadata": {},
   "outputs": [],
   "source": [
    "#| default_exp chatbot_tab"
   ]
  },
  {
   "cell_type": "code",
   "execution_count": null,
   "id": "a5b60d64-4066-4398-b6b2-bcc0431a565d",
   "metadata": {},
   "outputs": [],
   "source": [
    "#| export\n",
    "import ipywidgets as widgets\n",
    "import traitlets\n",
    "from ipywidgets import Textarea, Text, Layout, HBox, Stack, Layout\n",
    "from traitlets import HasTraits\n",
    "import os\n",
    "from langchain_openai import ChatOpenAI\n",
    "from langchain_core.messages import HumanMessage, SystemMessage\n",
    "from langchain_core.prompts.chat import (\n",
    "    ChatPromptTemplate,\n",
    "    HumanMessagePromptTemplate,\n",
    "    SystemMessagePromptTemplate,\n",
    ")\n",
    "from langchain_openai import ChatOpenAI\n",
    "from jupyter_mentor.chatbot import ChatBot, ChatBotModel"
   ]
  },
  {
   "cell_type": "code",
   "execution_count": null,
   "id": "246e149a-2461-4b40-8efb-0a476be12b80",
   "metadata": {},
   "outputs": [
    {
     "data": {
      "text/plain": [
       "'Hello! How can I assist you today?'"
      ]
     },
     "execution_count": null,
     "metadata": {},
     "output_type": "execute_result"
    }
   ],
   "source": [
    "from jupyter_mentor.chatbot import ChatBotModel\n",
    "chatbot_model = ChatBotModel()\n",
    "chatbot_model.prompt('hello')\n",
    "\n",
    "## Extend ChatBotModel below"
   ]
  },
  {
   "cell_type": "code",
   "execution_count": null,
   "id": "d16df572-7edc-401c-beb4-4d5f53b28bae",
   "metadata": {},
   "outputs": [],
   "source": [
    "\n",
    "class ChatBotModel(FileModel):\n",
    "\n",
    "    def __init__(self, bot_template=\"You are playing the role of a tutor/educator\", human_template=\"{input_text}\"):\n",
    "        super().__init__()\n",
    "        self.human_template = human_template\n",
    "        self.human_message_prompt = HumanMessagePromptTemplate.from_template(self.human_template)\n",
    "        self.update_bot_template(bot_template)\n",
    "\n",
    "    def update_bot_template(self, bot_template):\n",
    "        self.bot_template = bot_template\n",
    "        self.bot_message_prompt = SystemMessagePromptTemplate.from_template(self.bot_template)\n",
    "        self.chat_prompt = ChatPromptTemplate.from_messages([self.bot_message_prompt, self.human_message_prompt])\n",
    "\n",
    "    def update_human_template(self, human_template):\n",
    "        self.human_template = human_template\n",
    "        self.human_message_prompt = HumanMessagePromptTemplate.from_template(self.human_template)\n",
    "        self.chat_prompt = ChatPromptTemplate.from_messages([self.bot_message_prompt, self.human_message_prompt])        \n",
    "\n",
    "    def prompt(self, input_text):\n",
    "        ret = self.llm.invoke(input_text)\n",
    "        return ret.content\n",
    "    \n",
    "    def prompt_with_template(self, kwargs):\n",
    "        ret = self.llm.invoke(self.chat_prompt.format_prompt(**kwargs))\n",
    "        return ret.content"
   ]
  },
  {
   "cell_type": "code",
   "execution_count": null,
   "id": "a57225dd-d6de-43ee-982f-c1467203dcd3",
   "metadata": {},
   "outputs": [],
   "source": [
    "# read openapi key and set model\n",
    "with open('OPENAI_API_KEY', 'r') as file:\n",
    "    openai_api_key = file.read().strip()\n",
    "\n",
    "llm = ChatOpenAI(openai_api_key = openai_api_key, model_name=\"gpt-3.5-turbo\")"
   ]
  },
  {
   "cell_type": "code",
   "execution_count": null,
   "id": "a553a55b-ddce-4c09-b5d5-f5cac9a6fbd9",
   "metadata": {},
   "outputs": [],
   "source": [
    "student_template_options = widgets.RadioButtons(\n",
    "    options={'Open Prompt': '{input_text}',\n",
    "             'Metaphor':\"I'm having trouble understanding {input_text}. Explain it as a metaphor.\"},\n",
    "    description='Prompt Options:',\n",
    ")\n",
    "student_template_options"
   ]
  },
  {
   "cell_type": "code",
   "execution_count": null,
   "id": "5a2e9467-8af1-4f42-83ff-27c77d9133ef",
   "metadata": {},
   "outputs": [
    {
     "ename": "NameError",
     "evalue": "name 'student_template_options' is not defined",
     "output_type": "error",
     "traceback": [
      "\u001b[0;31m---------------------------------------------------------------------------\u001b[0m",
      "\u001b[0;31mNameError\u001b[0m                                 Traceback (most recent call last)",
      "Cell \u001b[0;32mIn[2], line 1\u001b[0m\n\u001b[0;32m----> 1\u001b[0m \u001b[43mstudent_template_options\u001b[49m\u001b[38;5;241m.\u001b[39mvalue\n",
      "\u001b[0;31mNameError\u001b[0m: name 'student_template_options' is not defined"
     ]
    }
   ],
   "source": [
    "student_template_options.value"
   ]
  },
  {
   "cell_type": "code",
   "execution_count": null,
   "id": "7e878d5d-8754-4210-b26f-edbc4d592987",
   "metadata": {},
   "outputs": [],
   "source": [
    "#| export\n",
    "class StudentChatBot(widgets.VBox):\n",
    "\n",
    "    #user = traitlets.CUnicode()\n",
    "    #response = traitlets.CUnicode()\n",
    "    #step_by_step = traitlets.Bool()\n",
    "    #metaphor = traitlets.Bool()\n",
    "    #hints = traitlets.Bool()\n",
    "    #guided_questions = traitlets.Bool() \n",
    "    \n",
    "    def __init__(self, chatbot_model):\n",
    "        # If you forget to call the superconstructor on an extended widget\n",
    "        # you will get an AttributeError: object has no attribute '_model_id'\n",
    "        super().__init__()\n",
    "\n",
    "        self.chat_bot = ChatBot(chatbot_model)\n",
    "\n",
    "        self.suggestion_buttons = HBox()\n",
    "        self.step_by_step = widgets.Button(\n",
    "            description='Step-by-Step',\n",
    "            button_style='info',\n",
    "            tooltip='Description',\n",
    "        )\n",
    "        self.metaphor = widgets.Button(\n",
    "            description='Metaphor',\n",
    "            button_style='info',\n",
    "            tooltip='Description',\n",
    "        )\n",
    "        self.hints = widgets.Button(\n",
    "            description='Hints',\n",
    "            button_style='info',\n",
    "            tooltip='Description',\n",
    "        )\n",
    "        self.guided_questions = widgets.Button(\n",
    "            description='AI Guided Questions',\n",
    "            button_style='info',\n",
    "            tooltip='Description', \n",
    "        )\n",
    "        self.suggestion_buttons.children = (self.step_by_step, self.metaphor, self.hints, self.guided_questions)\n",
    "        self.children = (self.chat_bot, self.suggestion_buttons)"
   ]
  },
  {
   "cell_type": "code",
   "execution_count": null,
   "id": "b4e598d6-0f71-423e-afa6-723d52a68926",
   "metadata": {},
   "outputs": [
    {
     "data": {
      "application/vnd.jupyter.widget-view+json": {
       "model_id": "77cb790799a34780b325d893189111e7",
       "version_major": 2,
       "version_minor": 0
      },
      "text/plain": [
       "StudentChatBot(children=(ChatBot(children=(Textarea(value='', disabled=True, layout=Layout(height='400px', wid…"
      ]
     },
     "execution_count": null,
     "metadata": {},
     "output_type": "execute_result"
    }
   ],
   "source": [
    "student_chatbot = StudentChatBot(chatbot_model)\n",
    "student_chatbot"
   ]
  },
  {
   "cell_type": "code",
   "execution_count": null,
   "id": "1ded08d8-6981-47f8-86ab-f65c3b4700bf",
   "metadata": {},
   "outputs": [],
   "source": [
    "#| export\n",
    "class EducatorChatBot(widgets.VBox):\n",
    "\n",
    "    #user = traitlets.CUnicode()\n",
    "    #response = traitlets.CUnicode()\n",
    "    #step_by_step = traitlets.Bool()\n",
    "    #metaphor = traitlets.Bool()\n",
    "    #hints = traitlets.Bool()\n",
    "    #guided_questions = traitlets.Bool()  \n",
    "    \n",
    "    def __init__(self, chatbot_model):\n",
    "        # If you forget to call the superconstructor on an extended widget\n",
    "        # you will get an AttributeError: object has no attribute '_model_id'\n",
    "        super().__init__()\n",
    "\n",
    "        self.chat_bot = ChatBot(chatbot_model)\n",
    "\n",
    "        self.suggestion_buttons = HBox()\n",
    "        self.exam_questions = widgets.Button(\n",
    "            description='Exam Questions',\n",
    "            button_style='info',\n",
    "            tooltip='Description',\n",
    "        )\n",
    "        self.lesson_plan = widgets.Button(\n",
    "            description='Lesson Plan',\n",
    "            button_style='info',\n",
    "            tooltip='Description',\n",
    "        )\n",
    "        self.suggestion_buttons.children = (self.exam_questions, self.lesson_plan )\n",
    "        self.children = (self.chat_bot, self.suggestion_buttons)"
   ]
  },
  {
   "cell_type": "code",
   "execution_count": null,
   "id": "363161e3-ad28-4495-a9a7-0529f084c41e",
   "metadata": {},
   "outputs": [],
   "source": [
    "educator_chatbot = EducatorChatBot(chatbot_model)\n",
    "educator_chatbot"
   ]
  },
  {
   "cell_type": "code",
   "execution_count": null,
   "id": "acf72e11-5e48-40cf-a1fc-89f2f201aaac",
   "metadata": {},
   "outputs": [],
   "source": [
    "#| hide\n",
    "import nbdev; nbdev.nbdev_export()"
   ]
  },
  {
   "cell_type": "code",
   "execution_count": null,
   "id": "662f28f2-7c29-432b-be4e-80575793ec66",
   "metadata": {},
   "outputs": [],
   "source": []
  }
 ],
 "metadata": {
  "kernelspec": {
   "display_name": "python3",
   "language": "python",
   "name": "python3"
  }
 },
 "nbformat": 4,
 "nbformat_minor": 5
}
