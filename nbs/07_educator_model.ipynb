{
 "cells": [
  {
   "cell_type": "code",
   "execution_count": null,
   "id": "9103c404-226a-4f0a-bc9c-e9f8fe2e1c40",
   "metadata": {},
   "outputs": [],
   "source": [
    "#| default_exp educator_model"
   ]
  },
  {
   "cell_type": "markdown",
   "id": "5aaeaa38-b469-4788-8a1f-fa645d05d2e3",
   "metadata": {},
   "source": [
    "# Educator Model\n",
    "\n",
    "> This class connects the responses that the educator gave in the user interface to the LLM"
   ]
  },
  {
   "cell_type": "code",
   "execution_count": null,
   "id": "35ca15a1-3f44-420a-be7f-b640b7538fe7",
   "metadata": {},
   "outputs": [],
   "source": [
    "#| export\n",
    "import traitlets\n",
    "from traitlets import HasTraits"
   ]
  },
  {
   "cell_type": "code",
   "execution_count": null,
   "id": "31b8b980-83b2-4e2c-a684-fd0a4dafe72c",
   "metadata": {},
   "outputs": [],
   "source": [
    "#| export \n",
    "class EducatorModel(HasTraits):\n",
    "    \n",
    "    user = traitlets.CUnicode()\n",
    "    response = traitlets.CUnicode()\n",
    "    \n",
    "    def __init__(self):\n",
    "        super().__init__()\n",
    "\n",
    "    def invoke(self, prompt):\n",
    "        # Goal: use langchain invoke and use the return value to update the self.response variable\n",
    "        self.response = \"Hi am an AI and I have a response\" # TODO: edit this line so the response comes from langchain"
   ]
  },
  {
   "cell_type": "code",
   "execution_count": null,
   "id": "3f2c941e-f024-4b31-95e4-01a6ff5d461a",
   "metadata": {},
   "outputs": [],
   "source": [
    "educator_model = EducatorModel()\n",
    "educator_model.response"
   ]
  },
  {
   "cell_type": "code",
   "execution_count": null,
   "id": "96227938-6583-4cd0-b152-b48f0a80b7bb",
   "metadata": {},
   "outputs": [],
   "source": [
    "educator_model.invoke(\"Hi I'm an educator and I have a question for you\")\n",
    "educator_model.response"
   ]
  },
  {
   "cell_type": "code",
   "execution_count": null,
   "id": "af064b99-e1be-41fb-84e4-878b20000aeb",
   "metadata": {},
   "outputs": [],
   "source": [
    "#| hide\n",
    "import nbdev; nbdev.nbdev_export()"
   ]
  }
 ],
 "metadata": {
  "kernelspec": {
   "display_name": "python3",
   "language": "python",
   "name": "python3"
  }
 },
 "nbformat": 4,
 "nbformat_minor": 5
}
