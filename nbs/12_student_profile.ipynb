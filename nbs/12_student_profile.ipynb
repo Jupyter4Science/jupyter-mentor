{
 "cells": [
  {
   "cell_type": "code",
   "execution_count": null,
   "id": "2df4d2d5-3e88-45a1-ba93-33884367b767",
   "metadata": {},
   "outputs": [],
   "source": [
    "#| default_exp student_profile"
   ]
  },
  {
   "cell_type": "code",
   "execution_count": 49,
   "id": "04513d03-ca81-4315-bd67-4a6e10cec378",
   "metadata": {},
   "outputs": [],
   "source": [
    "#| export\n",
    "import ipywidgets as widgets\n",
    "from ipywidgets import VBox, HTML, HBox, Label, Tab, Output, Button, Text, Textarea\n",
    "from IPython.display import display, clear_output\n",
    "import ipyvuetify as v"
   ]
  },
  {
   "cell_type": "code",
   "execution_count": 50,
   "id": "0c3f213a-6037-4df2-a402-b10e146f1794",
   "metadata": {},
   "outputs": [],
   "source": [
    "#| export\n",
    "class StudentProfile(widgets.VBox):\n",
    "    \n",
    "    def __init__(self):\n",
    "        super().__init__()\n",
    "\n",
    "        \n",
    "        # Username input\n",
    "        self.username_input = v.TextField(label='Name:', placeholder='Enter username')\n",
    "\n",
    "        \n",
    "        # School input\n",
    "        self.school_input = v.TextField(label='School:', placeholder='Enter your school')\n",
    "\n",
    "        # Year input\n",
    "        self.year_input = v.Select(clearable=True, label='Grade Level', items=['Freshman', 'Sophomore', 'Junior', 'Senior'], value='')\n",
    "\n",
    "        # Major input\n",
    "        self.major_input = v.TextField(label='Major:', placeholder='Enter your major')\n",
    "\n",
    "        # Minors/Certificates input\n",
    "        self.minor_input = v.TextField(label='Minors/Certificates:', placeholder='Enter your minors and/or certificates')\n",
    "\n",
    "        # Interests input\n",
    "        self.interests_input = v.TextField(label='Outside Interests:', placeholder='Enter your outside interests')\n",
    "\n",
    "        \n",
    "   \n",
    "        # Next button\n",
    "        self.next_button = Button(description='Next')\n",
    "\n",
    "\n",
    "        #Header\n",
    "        self.header = v.Container(children=[\n",
    "            v.Html(\n",
    "                tag='h1',\n",
    "                attributes={'title': 'a title'},\n",
    "                children=['Student Profile']\n",
    "            ),\n",
    "\n",
    "            v.Icon(children=['mdi-account'])\n",
    "\n",
    "\n",
    "        ])\n",
    "\n",
    "   # Arrange widgets vertically\n",
    "        self.children = [\n",
    "            self.header, # Heading \n",
    "            self.username_input,       # Username label and input box\n",
    "            self.school_input,       # Password label and input box\n",
    "            self.year_input,\n",
    "            self.major_input,\n",
    "            self.minor_input,\n",
    "            self.interests_input,\n",
    "            HBox([self.next_button], layout={'justify_content': 'flex-end'}),  # Login button aligned to the right\n",
    "        ]"
   ]
  },
  {
   "cell_type": "code",
   "execution_count": 51,
   "id": "11eb898f-c1c0-4651-ae5d-64270f663d2f",
   "metadata": {},
   "outputs": [
    {
     "data": {
      "application/vnd.jupyter.widget-view+json": {
       "model_id": "205463f0f2d3439f9845a542317c6d93",
       "version_major": 2,
       "version_minor": 0
      },
      "text/plain": [
       "StudentProfile(children=(Container(children=[Html(attributes={'title': 'a title'}, children=['Student Profile'…"
      ]
     },
     "execution_count": 51,
     "metadata": {},
     "output_type": "execute_result"
    }
   ],
   "source": [
    "profile = StudentProfile()\n",
    "profile"
   ]
  },
  {
   "cell_type": "code",
   "execution_count": 52,
   "id": "aaa187b8-594b-4ee4-9c35-c9c2faee67e8",
   "metadata": {},
   "outputs": [],
   "source": [
    "#| hide\n",
    "import nbdev; nbdev.nbdev_export()"
   ]
  },
  {
   "cell_type": "code",
   "execution_count": null,
   "id": "379bd6a2-06a3-47bb-9493-7ffb632b68de",
   "metadata": {},
   "outputs": [],
   "source": []
  }
 ],
 "metadata": {
  "kernelspec": {
   "display_name": "Python 3 (ipykernel)",
   "language": "python",
   "name": "python3"
  },
  "language_info": {
   "codemirror_mode": {
    "name": "ipython",
    "version": 3
   },
   "file_extension": ".py",
   "mimetype": "text/x-python",
   "name": "python",
   "nbconvert_exporter": "python",
   "pygments_lexer": "ipython3",
   "version": "3.8.19"
  }
 },
 "nbformat": 4,
 "nbformat_minor": 5
}
