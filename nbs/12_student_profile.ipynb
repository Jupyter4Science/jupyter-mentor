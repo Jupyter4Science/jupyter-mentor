{
 "cells": [
  {
   "cell_type": "code",
   "execution_count": null,
   "id": "2df4d2d5-3e88-45a1-ba93-33884367b767",
   "metadata": {},
   "outputs": [],
   "source": [
    "#| default_exp student_profile"
   ]
  },
  {
   "cell_type": "code",
   "execution_count": null,
   "id": "04513d03-ca81-4315-bd67-4a6e10cec378",
   "metadata": {},
   "outputs": [],
   "source": [
    "#| export\n",
    "import ipywidgets as widgets\n",
    "from ipywidgets import VBox, HTML, HBox, Label, Tab, Output, Button, Text, Textarea\n",
    "from IPython.display import display, clear_output\n",
    "import ipyvuetify as v"
   ]
  },
  {
   "cell_type": "code",
   "execution_count": null,
   "id": "0c3f213a-6037-4df2-a402-b10e146f1794",
   "metadata": {},
   "outputs": [],
   "source": [
    "#| export\n",
    "class StudentProfile(widgets.VBox):\n",
    "    \n",
    "    def __init__(self):\n",
    "        super().__init__()\n",
    "\n",
    "        \n",
    "        # Username input\n",
    "        self.username_label = Label('Name/ID:')\n",
    "        self.username_input = Text(placeholder='Enter your name')\n",
    "        \n",
    "        # School input\n",
    "        self.school_label = Label('School/College:')\n",
    "        self.school_input = Text(placeholder='Enter Your School', password=True)\n",
    "\n",
    "        # Year input\n",
    "        self.year_label = Label('Enter your Grade Level:')\n",
    "        self.year_input = v.Select(clearable=True, label='Grade Level', items=['Freshman', 'Sophomore', 'Junior', 'Senior'], value='')\n",
    "\n",
    "        # Major input\n",
    "        self.major_label = Label('Major:')\n",
    "        self.major_input = Text(placeholder='Enter Your Major', password=True)\n",
    "\n",
    "        # Minors/Certificates input\n",
    "        self.minor_label = Label('Minors/Certificates:')\n",
    "        self.minor_input = Text(placeholder='Enter Your Minors and/or Certificates', password=True)\n",
    "\n",
    "        # Interests input\n",
    "        self.interests_label = Label('List your outside interests:')\n",
    "        self.interests_input = Textarea(placeholder='Enter your outside interests', password=True)\n",
    "\n",
    "        \n",
    "        # Next button\n",
    "        self.next_button = Button(description='Next')\n",
    "        \n",
    "        # Arrange labels and inputs horizontally\n",
    "        self.username_box = HBox([self.username_label, self.username_input])\n",
    "        self.school_box = HBox([self.school_label, self.school_input])\n",
    "        self.year_box = HBox([self.year_label, self.year_input])\n",
    "        self.major_box = HBox([self.major_label, self.major_input])\n",
    "        self.minor_box = HBox([self.minor_label, self.minor_input])\n",
    "        self.interests_box = HBox([self.interests_label, self.interests_input])\n",
    "        \n",
    "        # Arrange widgets vertically\n",
    "        self.children = [\n",
    "            HTML('<h2>Student User Profile</h2>'),  # Heading\n",
    "            self.username_box,       # Username label and input box\n",
    "            self.school_box,       # Password label and input box\n",
    "            self.year_box,\n",
    "            self.major_box,\n",
    "            self.minor_box,\n",
    "            self.interests_box,\n",
    "            HBox([self.next_button], layout={'justify_content': 'flex-end'}),  # Login button aligned to the right\n",
    "        ]"
   ]
  },
  {
   "cell_type": "code",
   "execution_count": null,
   "id": "11eb898f-c1c0-4651-ae5d-64270f663d2f",
   "metadata": {},
   "outputs": [],
   "source": [
    "profile = StudentProfile()\n",
    "profile"
   ]
  },
  {
   "cell_type": "code",
   "execution_count": null,
   "id": "aaa187b8-594b-4ee4-9c35-c9c2faee67e8",
   "metadata": {},
   "outputs": [],
   "source": [
    "#| hide\n",
    "import nbdev; nbdev.nbdev_export()"
   ]
  },
  {
   "cell_type": "code",
   "execution_count": null,
   "id": "379bd6a2-06a3-47bb-9493-7ffb632b68de",
   "metadata": {},
   "outputs": [],
   "source": []
  }
 ],
 "metadata": {
  "kernelspec": {
   "display_name": "python3",
   "language": "python",
   "name": "python3"
  }
 },
 "nbformat": 4,
 "nbformat_minor": 5
}
