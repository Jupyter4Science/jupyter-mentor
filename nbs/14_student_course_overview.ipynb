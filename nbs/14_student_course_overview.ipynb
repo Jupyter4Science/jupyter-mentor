{
 "cells": [
  {
   "cell_type": "code",
   "execution_count": null,
   "id": "b8b8cb16-2ceb-4b93-b5f5-615270d1b9b2",
   "metadata": {},
   "outputs": [],
   "source": [
    "#| default_exp student_course_overview"
   ]
  },
  {
   "cell_type": "code",
   "execution_count": 13,
   "id": "0320fe7e-0ec7-4dd1-90c2-74a3e25bab86",
   "metadata": {},
   "outputs": [],
   "source": [
    "#| export\n",
    "from jupyter_mentor.file_viewer import FileViewer\n",
    "import ipywidgets as widgets\n",
    "from ipywidgets import VBox, HBox, HTML, Button, Label, Text, Checkbox, Accordion, FileUpload\n",
    "from ipyfilechooser import FileChooser\n",
    "from IPython.display import display, clear_output\n",
    "import ipyvuetify as v\n",
    "from traitlets import observe"
   ]
  },
  {
   "cell_type": "code",
   "execution_count": 14,
   "id": "ab283a97-289b-49ba-94ce-4b7c34353e04",
   "metadata": {},
   "outputs": [],
   "source": [
    "#| export\n",
    "\n",
    "class FileDownloader(widgets.VBox):\n",
    "    def __init__(self):\n",
    "        super().__init__()\n",
    "        self.file_chooser = FileChooser()\n",
    "        self.download_button = v.Btn(\n",
    "            class_=\"ma-2\",\n",
    "            outlined=True,\n",
    "            href=\"./course_files/hussey2015.pdf\",\n",
    "            attributes={\"download\": \"hussey2015.pdf\"},\n",
    "            children=[\"Download All\"]\n",
    "        )\n",
    "        self.children = [self.file_chooser, self.download_button]"
   ]
  },
  {
   "cell_type": "code",
   "execution_count": 15,
   "id": "f0e47085-1303-4292-b752-0ee05eef872d",
   "metadata": {},
   "outputs": [],
   "source": [
    "#| export\n",
    "class StudentCourseOverview(VBox):\n",
    "    def __init__(self):\n",
    "        super().__init__()\n",
    "        # global file viewer (that has model)\n",
    "        #self.file_viewer = file_viewer\n",
    "        # Course overview text\n",
    "        self.course_overview_label = Label('Available Files:')\n",
    "        # self.course_overview_text = Text(placeholder=‘Enter course overview’)\n",
    "\n",
    "        self.file_downloader = FileDownloader()\n",
    "\n",
    "    \n",
    "        # Next button\n",
    "        self.next_button = Button(description='Next')\n",
    "\n",
    "        #Header\n",
    "        self.header = v.Container(children=[\n",
    "            v.Html(\n",
    "                tag='h1',\n",
    "                attributes={'title': 'a title'},\n",
    "                children=['Student Course Overview']\n",
    "            )\n",
    "        ])\n",
    "\n",
    "        \n",
    "        # Arrange widgets vertically\n",
    "        self.children = [\n",
    "            self.header,  # Heading\n",
    "            #self.file_viewer,\n",
    "            self.course_overview_label,  # Course overview\n",
    "            self.file_downloader,\n",
    "            HBox([self.next_button], layout={'justify_content': 'flex-end'}),\n",
    "        ]"
   ]
  },
  {
   "cell_type": "code",
   "execution_count": 16,
   "id": "54fb4f23-dabc-4109-a482-feee5c130f36",
   "metadata": {},
   "outputs": [
    {
     "data": {
      "application/vnd.jupyter.widget-view+json": {
       "model_id": "504e53f418464756a1b33d67d9d4fc64",
       "version_major": 2,
       "version_minor": 0
      },
      "text/plain": [
       "StudentCourseOverview(children=(Container(children=[Html(attributes={'title': 'a title'}, children=['Student C…"
      ]
     },
     "execution_count": 16,
     "metadata": {},
     "output_type": "execute_result"
    }
   ],
   "source": [
    "#file_viewer = FileViewer()\n",
    "main = StudentCourseOverview()\n",
    "main"
   ]
  },
  {
   "cell_type": "code",
   "execution_count": 17,
   "id": "11872b33-a907-4acb-9537-0a2f4237d791",
   "metadata": {},
   "outputs": [],
   "source": [
    "#| hide\n",
    "import nbdev; nbdev.nbdev_export()"
   ]
  },
  {
   "cell_type": "code",
   "execution_count": null,
   "id": "7a9f3ff0-90e3-4cbb-a37e-ee9a28e6bf46",
   "metadata": {},
   "outputs": [],
   "source": []
  }
 ],
 "metadata": {
  "kernelspec": {
   "display_name": "Python 3 (ipykernel)",
   "language": "python",
   "name": "python3"
  },
  "language_info": {
   "codemirror_mode": {
    "name": "ipython",
    "version": 3
   },
   "file_extension": ".py",
   "mimetype": "text/x-python",
   "name": "python",
   "nbconvert_exporter": "python",
   "pygments_lexer": "ipython3",
   "version": "3.8.19"
  }
 },
 "nbformat": 4,
 "nbformat_minor": 5
}
