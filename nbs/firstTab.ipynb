{
 "cells": [
  {
   "cell_type": "code",
   "execution_count": 13,
   "id": "543f060f-5d9b-4b76-9354-f8483575b468",
   "metadata": {},
   "outputs": [],
   "source": [
    "#| default_exp firstTab\n"
   ]
  },
  {
   "cell_type": "code",
   "execution_count": 14,
   "id": "112bc93b-c8cb-4576-87e9-045e953979d0",
   "metadata": {},
   "outputs": [],
   "source": [
    "#| export\n",
    "import ipywidgets as widgets\n",
    "from ipywidgets import Tab, Output, Button\n"
   ]
  },
  {
   "cell_type": "code",
   "execution_count": 15,
   "id": "7a9ea954-5bcd-4871-87a6-fe01fc3590f3",
   "metadata": {},
   "outputs": [],
   "source": [
    "#| export\n",
    "class FirstTab(widgets.VBox):\n",
    "    \n",
    "    def __init__(self):\n",
    "        # If you forget to call the superconstructor on an extended widget\n",
    "        # you will get an AttributeError: object has no attribute '_model_id'\n",
    "        super().__init__()\n",
    "        \n",
    "        # Using Accordion\n",
    "        # Create accordion containing HTML content\n",
    "        self.using_acc = widgets.Accordion()\n",
    "        # self.using_acc.set_title(0, 'Using this App')\n",
    "        USING_TEXT = '''\n",
    "            In the Data tab above, you can review the dataset.\n",
    "            In the Selection tab, you can search for and download data of interest.\n",
    "            Once you've selected data, generate plots in the Visualize tab.\n",
    "            '''\n",
    "        self.using_body = widgets.HTML(USING_TEXT)\n",
    "        self.using_acc.children = (self.using_body, )\n",
    "        \n",
    "        # Data Souces Accordion\n",
    "        # Create accordion containing HTML content\n",
    "        self.sources_acc = widgets.Accordion()\n",
    "       # self.sources_acc.set_title(0, 'Data Sources')\n",
    "        SOURCES_TEXT = '''\n",
    "            Land-Ocean Temperature Index\n",
    "            Global Temperature (NASA)\n",
    "            ,\n",
    "            GISS Surface Temperature Analysis (NASA)\n",
    "            \n",
    "            This site is based on data downloaded from the following site on 2020-07-14:\n",
    "            Global Mean Estimates based on Land_and Ocean Data (NASA)\n",
    "            '''\n",
    "        self.sources_body = widgets.HTML(SOURCES_TEXT)\n",
    "        self.sources_acc.children = (self.sources_body, )\n",
    "\n",
    "        self.next_button = Button(description='Next')\n",
    "        \n",
    "        self.children = (self.using_acc, self.sources_acc, self.next_button)\n",
    "     "
   ]
  },
  {
   "cell_type": "code",
   "execution_count": 12,
   "id": "8ffe56dd-b8e8-43e2-9adf-c0e2531504c1",
   "metadata": {},
   "outputs": [],
   "source": [
    "from nbdev.export import nb_export\n",
    "nb_export('firstTab.ipynb', 'nbdevFolder')\n"
   ]
  },
  {
   "cell_type": "code",
   "execution_count": null,
   "id": "2a71b3eb-3d78-473b-8991-e2251a7c09ed",
   "metadata": {},
   "outputs": [],
   "source": []
  }
 ],
 "metadata": {
  "kernelspec": {
   "display_name": "Python 3 (ipykernel)",
   "language": "python",
   "name": "python3"
  },
  "language_info": {
   "codemirror_mode": {
    "name": "ipython",
    "version": 3
   },
   "file_extension": ".py",
   "mimetype": "text/x-python",
   "name": "python",
   "nbconvert_exporter": "python",
   "pygments_lexer": "ipython3",
   "version": "3.8.19"
  }
 },
 "nbformat": 4,
 "nbformat_minor": 5
}
