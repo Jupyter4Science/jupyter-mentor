{
 "cells": [
  {
   "cell_type": "code",
   "execution_count": 17,
   "id": "f561c615-c749-46ad-be05-1c23b4895b1c",
   "metadata": {},
   "outputs": [],
   "source": [
    "## This is the first tab for the log-in screen. "
   ]
  },
  {
   "cell_type": "code",
   "execution_count": 61,
   "id": "543f060f-5d9b-4b76-9354-f8483575b468",
   "metadata": {},
   "outputs": [],
   "source": [
    "#| default_exp firstTab\n"
   ]
  },
  {
   "cell_type": "code",
   "execution_count": 66,
   "id": "112bc93b-c8cb-4576-87e9-045e953979d0",
   "metadata": {},
   "outputs": [],
   "source": [
    "#| export\n",
    "import ipywidgets as widgets\n",
    "from ipywidgets import VBox, HTML, HBox, Label, Tab, Output, Button, Text\n",
    "from IPython.display import display, clear_output\n",
    "import ipyvuetify as v\n"
   ]
  },
  {
   "cell_type": "code",
   "execution_count": 70,
   "id": "7a9ea954-5bcd-4871-87a6-fe01fc3590f3",
   "metadata": {},
   "outputs": [],
   "source": [
    "#| export\n",
    "class FirstTab(VBox):\n",
    "    \n",
    "    def __init__(self):\n",
    "        super().__init__()\n",
    "        \n",
    "        # Username input\n",
    "        self.username_label = Label('Username:')\n",
    "        self.username_input = Text(placeholder='Enter username')\n",
    "        \n",
    "        # Password input\n",
    "        self.key_label = Label('API Key:')\n",
    "        self.key_input = Text(placeholder='Enter API key', password=True)\n",
    "        \n",
    "        # Login button\n",
    "        self.login_button = Button(description='Login')\n",
    "        \n",
    "        # Arrange labels and inputs horizontally\n",
    "        self.username_box = HBox([self.username_label, self.username_input])\n",
    "        self.key_box = HBox([self.key_label, self.key_input])\n",
    "        \n",
    "        # Arrange widgets vertically\n",
    "        self.children = [\n",
    "            HTML('<h2>Login</h2>'),  # Heading\n",
    "            self.username_box,       # Username label and input box\n",
    "            self.key_box,       # Password label and input box\n",
    "            HBox([self.login_button], layout={'justify_content': 'flex-end'}),  # Login button aligned to the right\n",
    "        ]\n"
   ]
  },
  {
   "cell_type": "code",
   "execution_count": 71,
   "id": "6e8d6319-0a74-4021-b604-cf66c4656cf9",
   "metadata": {},
   "outputs": [
    {
     "data": {
      "application/vnd.jupyter.widget-view+json": {
       "model_id": "66459e4e0d67411b92e13488c94219d3",
       "version_major": 2,
       "version_minor": 0
      },
      "text/plain": [
       "FirstTab(children=(HTML(value='<h2>Login</h2>'), HBox(children=(Label(value='Username:'), Text(value='', place…"
      ]
     },
     "execution_count": 71,
     "metadata": {},
     "output_type": "execute_result"
    }
   ],
   "source": [
    "main = FirstTab()\n",
    "main"
   ]
  },
  {
   "cell_type": "code",
   "execution_count": 65,
   "id": "8ffe56dd-b8e8-43e2-9adf-c0e2531504c1",
   "metadata": {},
   "outputs": [],
   "source": [
    "from nbdev.export import nb_export\n",
    "nb_export('firstTab.ipynb', 'nbdevFolder')\n"
   ]
  },
  {
   "cell_type": "code",
   "execution_count": null,
   "id": "94fce144-391e-4917-86ea-d8e8fde8c3ca",
   "metadata": {},
   "outputs": [],
   "source": []
  }
 ],
 "metadata": {
  "kernelspec": {
   "display_name": "Python 3 (ipykernel)",
   "language": "python",
   "name": "python3"
  },
  "language_info": {
   "codemirror_mode": {
    "name": "ipython",
    "version": 3
   },
   "file_extension": ".py",
   "mimetype": "text/x-python",
   "name": "python",
   "nbconvert_exporter": "python",
   "pygments_lexer": "ipython3",
   "version": "3.8.19"
  }
 },
 "nbformat": 4,
 "nbformat_minor": 5
}
