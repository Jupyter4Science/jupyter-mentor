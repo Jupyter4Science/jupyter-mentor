{
 "cells": [
  {
   "cell_type": "code",
   "execution_count": 6,
   "id": "8e116d25-0170-4b10-ba20-9524e85ea507",
   "metadata": {},
   "outputs": [],
   "source": [
    "#| default_exp fourthTab"
   ]
  },
  {
   "cell_type": "code",
   "execution_count": 7,
   "id": "a5b60d64-4066-4398-b6b2-bcc0431a565d",
   "metadata": {},
   "outputs": [],
   "source": [
    "#| export\n",
    "import ipywidgets as widgets\n",
    "from ipywidgets import Tab, Output, Button\n"
   ]
  },
  {
   "cell_type": "code",
   "execution_count": 8,
   "id": "db5c215f-b20b-4df4-9f5f-ad1bfdb9c64b",
   "metadata": {},
   "outputs": [],
   "source": [
    "#| export\n",
    "\n",
    "class FourthTab(widgets.VBox):\n",
    "    \n",
    "    def __init__(self):\n",
    "        # If you forget to call the superconstructor on an extended widget\n",
    "        # you will get an AttributeError: object has no attribute '_model_id'\n",
    "        super().__init__()\n",
    "        \n",
    "        # Using Accordion\n",
    "        # Create accordion containing HTML content\n",
    "        self.using_acc = widgets.Accordion()\n",
    "        # self.using_acc.set_title(0, 'Using this App')\n",
    "        USING_TEXT = '''\n",
    "            In the Data tab above, you can review the dataset.\n",
    "            In the Selection tab, you can search for and download data of interest.\n",
    "            Once you've selected data, generate plots in the Visualize tab.\n",
    "            '''\n",
    "        self.using_body = widgets.HTML(USING_TEXT)\n",
    "        self.using_acc.children = (self.using_body, )\n",
    "        \n",
    "        # Data Souces Accordion\n",
    "        # Create accordion containing HTML content\n",
    "        self.sources_acc = widgets.Accordion()\n",
    "       # self.sources_acc.set_title(0, 'Data Sources')\n",
    "        SOURCES_TEXT = '''\n",
    "            Land-Ocean Temperature Index\n",
    "            Global Temperature (NASA)\n",
    "            ,\n",
    "            GISS Surface Temperature Analysis (NASA)\n",
    "            \n",
    "            This site is based on data downloaded from the following site on 2020-07-14:\n",
    "            Global Mean Estimates based on Land_and Ocean Data (NASA)\n",
    "            '''\n",
    "        self.sources_body = widgets.HTML(SOURCES_TEXT)\n",
    "        self.sources_acc.children = (self.sources_body, )"
   ]
  },
  {
   "cell_type": "code",
   "execution_count": 9,
   "id": "778079f5-b1fd-4b58-91b1-4a7185a1d2c5",
   "metadata": {},
   "outputs": [],
   "source": [
    "from nbdev.export import nb_export\n",
    "nb_export('fourthTab.ipynb', 'nbdevFolder')\n"
   ]
  },
  {
   "cell_type": "code",
   "execution_count": null,
   "id": "acf72e11-5e48-40cf-a1fc-89f2f201aaac",
   "metadata": {},
   "outputs": [],
   "source": []
  }
 ],
 "metadata": {
  "kernelspec": {
   "display_name": "Python 3 (ipykernel)",
   "language": "python",
   "name": "python3"
  },
  "language_info": {
   "codemirror_mode": {
    "name": "ipython",
    "version": 3
   },
   "file_extension": ".py",
   "mimetype": "text/x-python",
   "name": "python",
   "nbconvert_exporter": "python",
   "pygments_lexer": "ipython3",
   "version": "3.8.19"
  }
 },
 "nbformat": 4,
 "nbformat_minor": 5
}
