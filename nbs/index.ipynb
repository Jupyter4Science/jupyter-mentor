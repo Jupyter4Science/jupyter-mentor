{
 "cells": [
  {
   "cell_type": "code",
   "execution_count": null,
   "metadata": {},
   "outputs": [],
   "source": [
    "#| hide\n",
    "from jupyter_mentor.core import *"
   ]
  },
  {
   "cell_type": "markdown",
   "metadata": {},
   "source": [
    "# jupyter-mentor\n",
    "\n",
    "> A chatbot to coach you through learning new things in Jupyter Notebooks"
   ]
  },
  {
   "cell_type": "markdown",
   "metadata": {},
   "source": [
    "## Developing locally with conda\n",
    "\n",
    "Assuming you have [conda](https://docs.conda.io/projects/conda/en/latest/user-guide/install/index.html) installed...\n",
    "\n",
    "1. Create a new environment using version 3.11 of python with the following command: \n",
    "``` sh\n",
    "conda create -f environment.yml\n",
    "```\n",
    "2. Go to the directory of your cloned repository and activate your envrionment:\n",
    "``` sh\n",
    "conda activate jupyter-mentor\n",
    "```\n",
    "3. Open the JupyterLab editor: \n",
    "``` sh\n",
    "cd path/to/your/cloned/repo\n",
    "jupyter lab\n",
    "```"
   ]
  },
  {
   "cell_type": "markdown",
   "metadata": {},
   "source": [
    "## Developing with Docker\n",
    "\n",
    "WARNING! Development with Docker is not recommended at this time. However, GitHub actions runs repo2docker to verify that this repository is compatible with Binder.\n",
    "\n",
    "### Developing on MacOS\n",
    "\n",
    "1. Install Docker with `brew install --cask docker`. If this command does not work, you may need to [install Homebrew](https://brew.sh/)\n",
    "2. Start Docker by clicking on application icon or by running `open -a Docker`\n",
    "3. Pull the docker image from DockerHub to you local machine using `docker image pull brewer36/jupyter-mentor:macos`\n",
    "4. `cd <location_of_your_clone>` \n",
    "5. Launch JupyterLab with `docker run -it --rm -p 8888:8888 brewer36/jupyter-mentor:macos jupyter lab --ip=0.0.0.0 --port=8888`\n",
    "\n",
    "### Updating brewer36/jupyter-mentor:latest (linux) image with GitHub acitons\n",
    "No extra steps required. This GitHub action automatically updates the image with each new commit.\n",
    "\n",
    "### Updating brewer36/jupyter-mentor:macos (arm64 for M1 chip) image with repo2docker\n",
    "1. Install repo2docker with `python3 -m pip install jupyter-repo2docker`\n",
    "2. `cd <location_of_your_clone>` \n",
    "3. `repo2docker --Repo2Docker.platform=linux/arm64 --image-name=brewer36/jupyter-mentor:macos ./` "
   ]
  },
  {
   "cell_type": "code",
   "execution_count": null,
   "metadata": {},
   "outputs": [],
   "source": []
  }
 ],
 "metadata": {
  "kernelspec": {
   "display_name": "python3",
   "language": "python",
   "name": "python3"
  }
 },
 "nbformat": 4,
 "nbformat_minor": 4
}
