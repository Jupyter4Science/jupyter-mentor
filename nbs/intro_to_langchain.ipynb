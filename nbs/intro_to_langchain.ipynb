{
 "cells": [
  {
   "cell_type": "code",
   "execution_count": null,
   "id": "053f0860-a0a5-4541-bd01-19221a82a7a6",
   "metadata": {},
   "outputs": [],
   "source": [
    "import langchain\n",
    "\n",
    "from langchain_openai import ChatOpenAI\n",
    "\n",
    "from langchain_core.prompts import ChatPromptTemplate\n",
    "from langchain_core.output_parsers import StrOutputParser\n",
    "from langchain_community.document_loaders import PyPDFLoader\n",
    "from langchain_community.vectorstores import FAISS\n",
    "from langchain_openai import OpenAIEmbeddings\n",
    "import os"
   ]
  },
  {
   "cell_type": "code",
   "execution_count": null,
   "id": "60396ad3-e250-462b-9644-4593989ebbba",
   "metadata": {},
   "outputs": [],
   "source": [
    "with open('../OPENAI_API_KEY', 'r') as file:\n",
    "    env_value = file.read().strip()"
   ]
  },
  {
   "cell_type": "code",
   "execution_count": null,
   "id": "9aa4aca0-230d-4f6b-bf74-a8022a85b486",
   "metadata": {},
   "outputs": [],
   "source": [
    "os.environ['OPENAI_API_KEY'] = env_value"
   ]
  },
  {
   "cell_type": "code",
   "execution_count": null,
   "id": "1926571e-c06e-4dfe-9bc9-ae7e3526b02e",
   "metadata": {},
   "outputs": [],
   "source": [
    "llm = ChatOpenAI()"
   ]
  },
  {
   "cell_type": "code",
   "execution_count": null,
   "id": "3db5e969-1325-44d3-a3e6-1272330e63ba",
   "metadata": {},
   "outputs": [],
   "source": [
    "model = ChatOpenAI(model_name=\"gpt-3.5\")"
   ]
  },
  {
   "cell_type": "code",
   "execution_count": null,
   "id": "f1db3885-d5d2-4dac-ba10-41dd0b8f524a",
   "metadata": {},
   "outputs": [],
   "source": [
    "# llm.invoke(\"Explain concept of derivatives in mathematics for kid?\")"
   ]
  },
  {
   "cell_type": "code",
   "execution_count": null,
   "id": "34e47d65-365f-423a-9e7e-fc2b8e3842ce",
   "metadata": {},
   "outputs": [],
   "source": [
    "embeddings = OpenAIEmbeddings()\n",
    "output_parser = StrOutputParser()\n",
    "filepath = \"STP 420 spring 2024 course syllabus\" #file as input\n",
    "pages = \"\" #extracting file content here\n",
    "def load_content(filepath):\n",
    "    global pages\n",
    "    path = filepath+\".pdf\"\n",
    "    loader = PyPDFLoader(path) \n",
    "    pages = loader.load_and_split() #loading file content as document with page content\n",
    "    db = FAISS.from_documents(pages, embeddings)\n",
    "    return db\n",
    "# text_splitter = RecursiveCharacterTextSplitter(chunk_size = 1000, chunk_overlap = 100)\n",
    "# docs = text_splitter.split_documents(pages)\n",
    "\n"
   ]
  },
  {
   "cell_type": "code",
   "execution_count": null,
   "id": "bb21a591-4191-4e59-bd2c-cf98be0ad323",
   "metadata": {},
   "outputs": [],
   "source": [
    "def get_response_from_query(db, query, k = 4):\n",
    "    docs = db.similarity_search(query, k=2)\n",
    "    docs_page_content = \" \".join([d.page_content for d in docs])\n",
    "    template=\"You are the world renowned problem solver and useful teacher who can answer questions based on course content: {docs}\"\n",
    "    prompt = ChatPromptTemplate.from_messages([(\"system\",template), (\"user\", query)])\n",
    "    chain = prompt | llm | output_parser\n",
    "    return chain.invoke({\"input\": query, \"docs\": docs_page_content, \"query\": query})\n",
    "db =  load_content(filepath)\n",
    "response = get_response_from_query(db, \"when will we learn confidence interval?\")\n",
    "print(response)"
   ]
  },
  {
   "cell_type": "code",
   "execution_count": null,
   "id": "d1f295e3-d891-4bbc-bef5-e73f2553c8d3",
   "metadata": {
    "scrolled": true
   },
   "outputs": [],
   "source": []
  },
  {
   "cell_type": "code",
   "execution_count": null,
   "id": "57ff3f4c-3320-4421-9cc6-2905b4b36367",
   "metadata": {},
   "outputs": [],
   "source": []
  }
 ],
 "metadata": {
  "kernelspec": {
   "display_name": "Python 3 (ipykernel)",
   "language": "python",
   "name": "python3"
  },
  "language_info": {
   "codemirror_mode": {
    "name": "ipython",
    "version": 3
   },
   "file_extension": ".py",
   "mimetype": "text/x-python",
   "name": "python",
   "nbconvert_exporter": "python",
   "pygments_lexer": "ipython3",
   "version": "3.11.8"
  }
 },
 "nbformat": 4,
 "nbformat_minor": 5
}
