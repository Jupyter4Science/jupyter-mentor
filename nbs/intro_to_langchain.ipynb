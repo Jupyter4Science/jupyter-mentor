{
 "cells": [
  {
   "cell_type": "code",
   "execution_count": null,
   "id": "053f0860-a0a5-4541-bd01-19221a82a7a6",
   "metadata": {},
   "outputs": [],
   "source": [
    "import langchain\n",
    "from langchain_openai import ChatOpenAI\n",
    "from langchain_core.prompts import ChatPromptTemplate\n",
    "from langchain_core.output_parsers import StrOutputParser\n",
    "from langchain_community.document_loaders import PyPDFLoader\n",
    "from langchain_community.vectorstores import FAISS\n",
    "from langchain_openai import OpenAIEmbeddings\n",
    "from langchain_core.messages import HumanMessage, SystemMessage\n",
    "from langchain_core.prompts.chat import (\n",
    "    ChatPromptTemplate,\n",
    "    HumanMessagePromptTemplate,\n",
    "    SystemMessagePromptTemplate,\n",
    ")\n",
    "from langchain_openai import ChatOpenAI"
   ]
  },
  {
   "cell_type": "code",
   "execution_count": null,
   "id": "60396ad3-e250-462b-9644-4593989ebbba",
   "metadata": {},
   "outputs": [],
   "source": [
    "import os\n",
    "with open('../OPENAI_API_KEY', 'r') as file:\n",
    "    env_value = file.read().strip()\n",
    "os.environ['OPENAI_API_KEY'] = env_value"
   ]
  },
  {
   "cell_type": "code",
   "execution_count": null,
   "id": "9aa4aca0-230d-4f6b-bf74-a8022a85b486",
   "metadata": {},
   "outputs": [],
   "source": [
    "os.environ['OPENAI_API_KEY'] = env_value"
   ]
  },
  {
   "cell_type": "code",
   "execution_count": null,
   "id": "3db5e969-1325-44d3-a3e6-1272330e63ba",
   "metadata": {},
   "outputs": [],
   "source": [
    "model = ChatOpenAI(model_name=\"gpt-3.5-turbo\")"
   ]
  },
  {
   "cell_type": "code",
   "execution_count": null,
   "id": "f1db3885-d5d2-4dac-ba10-41dd0b8f524a",
   "metadata": {},
   "outputs": [],
   "source": [
    "#model.invoke(\"Explain concept of derivatives in mathematics for kid?\")"
   ]
  },
  {
   "cell_type": "code",
   "execution_count": null,
   "id": "7656ddfb-8e9f-433e-828f-00d37626297c",
   "metadata": {},
   "outputs": [],
   "source": [
    "template = (\n",
    "    \"\"\"You are playing the role of an educator. You teach {grade_level} students about {course_subject}. \n",
    "\n",
    "    This is how I want you to interact with my students:\n",
    "    {ai_policy}\n",
    "    \"\"\"\n",
    ")\n",
    "bot_message_prompt = SystemMessagePromptTemplate.from_template(template)\n",
    "student_template = \"{text}\"\n",
    "student_message_prompt = HumanMessagePromptTemplate.from_template(student_template)\n",
    "\n",
    "chat_prompt = ChatPromptTemplate.from_messages(\n",
    "    [bot_message_prompt, student_message_prompt]\n",
    ")\n",
    "\n",
    "# get a chat completion from the formatted messages\n",
    "model.invoke(\n",
    "    chat_prompt.format_prompt(\n",
    "        grade_level=\"first year undergraduates\", \n",
    "        course_subject=\"introductory biology\", \n",
    "        ai_policy= \"I want the students to learn critical thinking. Under no circumstances are you supposed to give the students the full answers to questions on the first try. Try and help the student get to the question on their own three times before giving the answer.\",\n",
    "        text=\"What is the world's largest animal?\"\n",
    "    ).to_messages()\n",
    ")"
   ]
  },
  {
   "cell_type": "code",
   "execution_count": null,
   "id": "95e7e49c-4680-4e0d-b5fd-ef1e21ae5b95",
   "metadata": {},
   "outputs": [],
   "source": [
    "model.invoke?\n"
   ]
  },
  {
   "cell_type": "code",
   "execution_count": null,
   "id": "34e47d65-365f-423a-9e7e-fc2b8e3842ce",
   "metadata": {},
   "outputs": [],
   "source": [
    "embeddings = OpenAIEmbeddings()\n",
    "output_parser = StrOutputParser()\n",
    "filepath = \"STP 420 spring 2024 course syllabus.pdf\" #file as input\n",
    "pages = \"\" #extracting file content here\n",
    "def load_pdf(filepath):\n",
    "    path = filepath\n",
    "    loader = PyPDFLoader(path) \n",
    "    pages = loader.load_and_split() #loading file content as document with page content\n",
    "    db = FAISS.from_documents(pages, embeddings)\n",
    "    return db\n",
    "# text_splitter = RecursiveCharacterTextSplitter(chunk_size = 1000, chunk_overlap = 100)\n",
    "# docs = text_splitter.split_documents(pages)"
   ]
  },
  {
   "cell_type": "code",
   "execution_count": null,
   "id": "1316cadf-ee0e-4b74-89bd-1f21a1e36440",
   "metadata": {},
   "outputs": [],
   "source": [
    "db =  load_pdf(filepath)\n",
    "db.index.ntotal"
   ]
  },
  {
   "cell_type": "code",
   "execution_count": null,
   "id": "57ff3f4c-3320-4421-9cc6-2905b4b36367",
   "metadata": {},
   "outputs": [],
   "source": [
    "from langchain_community.document_loaders import UnstructuredMarkdownLoader\n",
    "\n",
    "def load_pdf(filepath):\n",
    "    loader = UnstructuredMarkdownLoader(filepath, mode=\"elements\") #mode=elements breaks up the text into chunks\n",
    "    doc = loader.load()\n",
    "    db = FAISS.from_documents(doc, embeddings)\n",
    "    return db"
   ]
  },
  {
   "cell_type": "code",
   "execution_count": null,
   "id": "e39d684e-d370-4dcc-bd07-d8841ddae44b",
   "metadata": {},
   "outputs": [],
   "source": [
    "db2 = load_pdf(\"2017-01-29-policies.md\")\n",
    "db2.index.ntotal"
   ]
  },
  {
   "cell_type": "code",
   "execution_count": null,
   "id": "2d5f9592-0967-4f69-8ed4-392e2fc6903a",
   "metadata": {},
   "outputs": [],
   "source": [
    "db.merge_from(db2)\n",
    "db.index.ntotal"
   ]
  },
  {
   "cell_type": "code",
   "execution_count": null,
   "id": "bb21a591-4191-4e59-bd2c-cf98be0ad323",
   "metadata": {},
   "outputs": [],
   "source": [
    "def get_response_from_query(db, query, k = 4):\n",
    "    docs = db.similarity_search(query, k=2)\n",
    "    docs_page_content = \" \".join([d.page_content for d in docs])\n",
    "    template=\"You are the world renowned problem solver and useful teacher who can answer questions based on course content: {docs}\"\n",
    "    prompt = ChatPromptTemplate.from_messages([(\"system\",template), (\"user\", query)])\n",
    "    chain = prompt | llm | output_parser\n",
    "    return chain.invoke({\"input\": query, \"docs\": docs_page_content, \"query\": query})\n",
    "response = get_response_from_query(db, \"when will we learn confidence interval?\")\n",
    "print(response)"
   ]
  },
  {
   "cell_type": "code",
   "execution_count": null,
   "id": "9560c996-d323-4eef-945a-a034cfd347ef",
   "metadata": {},
   "outputs": [],
   "source": []
  }
 ],
 "metadata": {
  "kernelspec": {
   "display_name": "python3",
   "language": "python",
   "name": "python3"
  }
 },
 "nbformat": 4,
 "nbformat_minor": 5
}
