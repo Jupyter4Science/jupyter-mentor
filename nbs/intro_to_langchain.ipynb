{
 "cells": [
  {
   "cell_type": "code",
   "execution_count": null,
   "id": "053f0860-a0a5-4541-bd01-19221a82a7a6",
   "metadata": {},
   "outputs": [],
   "source": [
    "import langchain\n",
    "\n",
    "from langchain_openai import ChatOpenAI"
   ]
  },
  {
   "cell_type": "code",
   "execution_count": null,
   "id": "60396ad3-e250-462b-9644-4593989ebbba",
   "metadata": {},
   "outputs": [],
   "source": [
    "import os\n",
    "\n",
    "with open('OPENAI_API_KEY', 'r') as file:\n",
    "    env_value = file.read().strip()"
   ]
  },
  {
   "cell_type": "code",
   "execution_count": null,
   "id": "9aa4aca0-230d-4f6b-bf74-a8022a85b486",
   "metadata": {},
   "outputs": [],
   "source": [
    "os.environ['OPENAI_API_KEY'] = env_value"
   ]
  },
  {
   "cell_type": "code",
   "execution_count": null,
   "id": "1926571e-c06e-4dfe-9bc9-ae7e3526b02e",
   "metadata": {},
   "outputs": [],
   "source": [
    "llm = ChatOpenAI()"
   ]
  },
  {
   "cell_type": "code",
   "execution_count": null,
   "id": "3db5e969-1325-44d3-a3e6-1272330e63ba",
   "metadata": {},
   "outputs": [],
   "source": [
    "model = ChatOpenAI(model_name=\"gpt-3.5\")"
   ]
  },
  {
   "cell_type": "code",
   "execution_count": null,
   "id": "f1db3885-d5d2-4dac-ba10-41dd0b8f524a",
   "metadata": {},
   "outputs": [],
   "source": [
    "# llm.invoke(\"hi there!\")"
   ]
  }
 ],
 "metadata": {
  "kernelspec": {
   "display_name": "python3",
   "language": "python",
   "name": "python3"
  }
 },
 "nbformat": 4,
 "nbformat_minor": 5
}
