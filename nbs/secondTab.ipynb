{
 "cells": [
  {
   "cell_type": "code",
   "execution_count": 7,
   "id": "05a3695f-3d73-455d-9a5c-a4ff9cc7fcdd",
   "metadata": {},
   "outputs": [],
   "source": [
    "#| default_exp secondTab"
   ]
  },
  {
   "cell_type": "code",
   "execution_count": 25,
   "id": "6d1adfd1-1896-42a6-9333-2c610debe906",
   "metadata": {},
   "outputs": [],
   "source": [
    "#| export\n",
    "import ipywidgets as widgets\n",
    "from ipywidgets import VBox, HTML, HBox, Label, Tab, Output, Button, Text\n",
    "from IPython.display import display, clear_output\n",
    "import ipyvuetify as v\n"
   ]
  },
  {
   "cell_type": "code",
   "execution_count": 26,
   "id": "adc63ca1-f6d9-402f-9e10-d3d7770d401a",
   "metadata": {},
   "outputs": [],
   "source": [
    "#| export\n",
    "class SecondTab(widgets.VBox):\n",
    "    \n",
    "    def __init__(self):\n",
    "        super().__init__()\n",
    "        \n",
    "        # Username input\n",
    "        self.username_label = Label('Name:')\n",
    "        self.username_input = Text(placeholder='Enter your name')\n",
    "        \n",
    "        # Password input\n",
    "        self.key_label = Label('Educator:')\n",
    "        self.key_input = Text(placeholder='Enter Your Level', password=True)\n",
    "        \n",
    "        # Next button\n",
    "        self.next_button = Button(description='Next')\n",
    "        \n",
    "        # Arrange labels and inputs horizontally\n",
    "        self.username_box = HBox([self.username_label, self.username_input])\n",
    "        self.key_box = HBox([self.key_label, self.key_input])\n",
    "        \n",
    "        # Arrange widgets vertically\n",
    "        self.children = [\n",
    "            HTML('<h2>User Profile</h2>'),  # Heading\n",
    "            self.username_box,       # Username label and input box\n",
    "            self.key_box,       # Password label and input box\n",
    "            HBox([self.next_button], layout={'justify_content': 'flex-end'}),  # Login button aligned to the right\n",
    "        ]"
   ]
  },
  {
   "cell_type": "code",
   "execution_count": 27,
   "id": "b6239cfc-2beb-45e8-8786-e2e4a0eea326",
   "metadata": {},
   "outputs": [],
   "source": [
    "from nbdev.export import nb_export\n",
    "nb_export('secondTab.ipynb', 'nbdevFolder')\n"
   ]
  },
  {
   "cell_type": "code",
   "execution_count": null,
   "id": "d363c72d-7dbd-461b-966c-a2db3145e635",
   "metadata": {},
   "outputs": [],
   "source": []
  }
 ],
 "metadata": {
  "kernelspec": {
   "display_name": "Python 3 (ipykernel)",
   "language": "python",
   "name": "python3"
  },
  "language_info": {
   "codemirror_mode": {
    "name": "ipython",
    "version": 3
   },
   "file_extension": ".py",
   "mimetype": "text/x-python",
   "name": "python",
   "nbconvert_exporter": "python",
   "pygments_lexer": "ipython3",
   "version": "3.8.19"
  }
 },
 "nbformat": 4,
 "nbformat_minor": 5
}
