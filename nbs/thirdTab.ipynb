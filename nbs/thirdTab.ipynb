{
 "cells": [
  {
   "cell_type": "code",
   "execution_count": 5,
   "id": "b8b8cb16-2ceb-4b93-b5f5-615270d1b9b2",
   "metadata": {},
   "outputs": [],
   "source": [
    "#| default_exp thirdTab"
   ]
  },
  {
   "cell_type": "code",
   "execution_count": 1,
   "id": "0320fe7e-0ec7-4dd1-90c2-74a3e25bab86",
   "metadata": {},
   "outputs": [],
   "source": [
    "#| export\n",
    "import ipywidgets as widgets\n",
    "from ipywidgets import VBox, HBox, HTML, Button, Label, Text, Checkbox, Accordion, FileUpload\n",
    "from IPython.display import display, clear_output\n",
    "import ipyvuetify as v\n",
    "from traitlets import observe\n"
   ]
  },
  {
   "cell_type": "code",
   "execution_count": 9,
   "id": "f0e47085-1303-4292-b752-0ee05eef872d",
   "metadata": {},
   "outputs": [],
   "source": [
    "#| export\n",
    "\n",
    "class ThirdTab(VBox):\n",
    "    \n",
    "    def __init__(self):\n",
    "        super().__init__()\n",
    "        \n",
    "        # File Upload button\n",
    "        self.file_upload = FileUpload(accept='', multiple=False)\n",
    "        self.file_upload_button = Button(description='Upload')\n",
    "\n",
    "        \n",
    "        # File viewer (hidden in accordion)\n",
    "        self.file_viewer_accordion = Accordion(children=[HTML('File viewer content')])\n",
    "        self.file_viewer_accordion.selected_index = None  # Hide the accordion content initially\n",
    "        \n",
    "        # Course overview text\n",
    "        self.course_overview_label = Label('Course Overview:')\n",
    "        self.course_overview_text = Text(placeholder='Enter course overview')\n",
    "        \n",
    "        # AI Guidelines text\n",
    "        self.ai_guidelines_label = Label('AI Guidelines:')\n",
    "      \n",
    "        \n",
    "        # Binary features checkboxes\n",
    "        self.step_by_step_checkbox = Checkbox(description='Step-by-Step')\n",
    "        self.metaphor_checkbox = Checkbox(description='Metaphor')\n",
    "        self.hints_checkbox = Checkbox(description='Hints')\n",
    "        self.ai_guided_questions_checkbox = Checkbox(description='AI Guided Questions')\n",
    "        \n",
    "        \n",
    "        # Open-ended response textbox\n",
    "        self.open_ended_label = Label('Open-ended Response:')\n",
    "        self.open_ended_text = Text(placeholder='Enter open-ended response')\n",
    "\n",
    "        # Next button\n",
    "        self.next_button = Button(description='Next')\n",
    "        \n",
    "        # Arrange widgets vertically\n",
    "        self.children = [\n",
    "            HTML('<h2>Course Overview</h2>'),  # Heading\n",
    "            HBox([self.file_upload, self.file_upload_button]),  # File upload button\n",
    "            self.file_viewer_accordion,  # File viewer (hidden initially)\n",
    "            self.course_overview_label, self.course_overview_text,  # Course overview\n",
    "            self.ai_guidelines_label,   # AI Guidelines\n",
    "            VBox([self.step_by_step_checkbox, self.metaphor_checkbox,\n",
    "                  self.hints_checkbox, self.ai_guided_questions_checkbox]),  # Binary features checkboxes\n",
    "            self.open_ended_label, self.open_ended_text,  # Open-ended response\n",
    "            HBox([self.next_button], layout={'justify_content': 'flex-end'}), \n",
    "        ]\n"
   ]
  },
  {
   "cell_type": "code",
   "execution_count": 11,
   "id": "54fb4f23-dabc-4109-a482-feee5c130f36",
   "metadata": {},
   "outputs": [
    {
     "data": {
      "application/vnd.jupyter.widget-view+json": {
       "model_id": "50ceafa017734f60863148ad7e69037a",
       "version_major": 2,
       "version_minor": 0
      },
      "text/plain": [
       "ThirdTab(children=(HTML(value='<h2>Course Overview</h2>'), HBox(children=(FileUpload(value=(), description='Up…"
      ]
     },
     "execution_count": 11,
     "metadata": {},
     "output_type": "execute_result"
    }
   ],
   "source": [
    "main = ThirdTab()\n",
    "main"
   ]
  },
  {
   "cell_type": "code",
   "execution_count": 12,
   "id": "55ed3ffc-d154-4b77-9117-6f580fbeb0fe",
   "metadata": {},
   "outputs": [
    {
     "data": {
      "application/vnd.jupyter.widget-view+json": {
       "model_id": "c65ee8027bcd48c0b5958f5f54112c92",
       "version_major": 2,
       "version_minor": 0
      },
      "text/plain": [
       "Container(children=[Html(attributes={'title': 'a title'}, children=['My heading'], layout=None, tag='h1')], la…"
      ]
     },
     "execution_count": 12,
     "metadata": {},
     "output_type": "execute_result"
    }
   ],
   "source": [
    "v.Container(children=[\n",
    "    v.Html(\n",
    "        tag='h1',\n",
    "        attributes={'title': 'a title'},\n",
    "        children=['My heading']\n",
    "    )\n",
    "])"
   ]
  },
  {
   "cell_type": "code",
   "execution_count": 61,
   "id": "11872b33-a907-4acb-9537-0a2f4237d791",
   "metadata": {},
   "outputs": [],
   "source": [
    "from nbdev.export import nb_export\n",
    "nb_export('thirdTab.ipynb', 'nbdevFolder')\n"
   ]
  },
  {
   "cell_type": "code",
   "execution_count": null,
   "id": "7a9f3ff0-90e3-4cbb-a37e-ee9a28e6bf46",
   "metadata": {},
   "outputs": [],
   "source": []
  }
 ],
 "metadata": {
  "kernelspec": {
   "display_name": "Python 3 (ipykernel)",
   "language": "python",
   "name": "python3"
  },
  "language_info": {
   "codemirror_mode": {
    "name": "ipython",
    "version": 3
   },
   "file_extension": ".py",
   "mimetype": "text/x-python",
   "name": "python",
   "nbconvert_exporter": "python",
   "pygments_lexer": "ipython3",
   "version": "3.8.19"
  }
 },
 "nbformat": 4,
 "nbformat_minor": 5
}
