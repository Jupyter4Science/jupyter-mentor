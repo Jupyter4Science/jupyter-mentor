{
 "cells": [
  {
   "cell_type": "code",
   "execution_count": 5,
   "id": "b8b8cb16-2ceb-4b93-b5f5-615270d1b9b2",
   "metadata": {},
   "outputs": [],
   "source": [
    "#| default_exp thirdTab"
   ]
  },
  {
   "cell_type": "code",
   "execution_count": 6,
   "id": "0320fe7e-0ec7-4dd1-90c2-74a3e25bab86",
   "metadata": {},
   "outputs": [],
   "source": [
    "#| export\n",
    "import ipywidgets as widgets\n",
    "from ipywidgets import Tab, Output, Button\n"
   ]
  },
  {
   "cell_type": "code",
   "execution_count": 7,
   "id": "84f02a6e-b4c0-404d-a029-edcfb605595b",
   "metadata": {},
   "outputs": [],
   "source": [
    "#| export\n",
    "\n",
    "class ThirdTab(widgets.VBox):\n",
    "    \n",
    "    def __init__(self):\n",
    "        # If you forget to call the superconstructor on an extended widget\n",
    "        # you will get an AttributeError: object has no attribute '_model_id'\n",
    "        super().__init__()\n",
    "        \n",
    "        # Using Accordion\n",
    "        # Create accordion containing HTML content\n",
    "        self.using_acc = widgets.Accordion()\n",
    "        # self.using_acc.set_title(0, 'Using this App')\n",
    "        USING_TEXT = '''\n",
    "            In the Data tab above, you can review the dataset.\n",
    "            In the Selection tab, you can search for and download data of interest.\n",
    "            Once you've selected data, generate plots in the Visualize tab.\n",
    "            '''\n",
    "        self.using_body = widgets.HTML(USING_TEXT)\n",
    "        self.using_acc.children = (self.using_body, )\n",
    "        \n",
    "        # Data Souces Accordion\n",
    "        # Create accordion containing HTML content\n",
    "        self.sources_acc = widgets.Accordion()\n",
    "       # self.sources_acc.set_title(0, 'Data Sources')\n",
    "        SOURCES_TEXT = '''\n",
    "            Land-Ocean Temperature Index\n",
    "            Global Temperature (NASA)\n",
    "            ,\n",
    "            GISS Surface Temperature Analysis (NASA)\n",
    "            \n",
    "            This site is based on data downloaded from the following site on 2020-07-14:\n",
    "            Global Mean Estimates based on Land_and Ocean Data (NASA)\n",
    "            '''\n",
    "        self.sources_body = widgets.HTML(SOURCES_TEXT)\n",
    "        self.sources_acc.children = (self.sources_body, )\n",
    "        \n",
    "        self.next_button = Button(description='Next')\n",
    "        \n",
    "        self.children = (self.using_acc, self.sources_acc, self.next_button)\n",
    "     "
   ]
  },
  {
   "cell_type": "code",
   "execution_count": 8,
   "id": "11872b33-a907-4acb-9537-0a2f4237d791",
   "metadata": {},
   "outputs": [],
   "source": [
    "from nbdev.export import nb_export\n",
    "nb_export('thirdTab.ipynb', 'nbdevFolder')\n"
   ]
  },
  {
   "cell_type": "code",
   "execution_count": null,
   "id": "f0e47085-1303-4292-b752-0ee05eef872d",
   "metadata": {},
   "outputs": [],
   "source": []
  }
 ],
 "metadata": {
  "kernelspec": {
   "display_name": "Python 3 (ipykernel)",
   "language": "python",
   "name": "python3"
  },
  "language_info": {
   "codemirror_mode": {
    "name": "ipython",
    "version": 3
   },
   "file_extension": ".py",
   "mimetype": "text/x-python",
   "name": "python",
   "nbconvert_exporter": "python",
   "pygments_lexer": "ipython3",
   "version": "3.8.19"
  }
 },
 "nbformat": 4,
 "nbformat_minor": 5
}
